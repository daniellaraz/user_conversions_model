{
 "cells": [
  {
   "cell_type": "markdown",
   "metadata": {},
   "source": [
    "#### Daniella Raz"
   ]
  },
  {
   "cell_type": "markdown",
   "metadata": {},
   "source": [
    "# About\n",
    "\n",
    "This project was done "
   ]
  },
  {
   "cell_type": "markdown",
   "metadata": {},
   "source": [
    "# Contents\n",
    "\n",
    "1. [Imports and Loading Data](#Imports)\n",
    "2. [Finding Adopted Users](#Finding)\n",
    "3. [Feature Selection and Exploratory Analysis](#Feature)\n",
    "    1. [Amending org_id](#Org)\n",
    "    2. [Amending email_domain](#Email)\n",
    "    3. [Amending creation_time](#Creation)\n",
    "    4. [Amending invited_by_user_id](#User)\n",
    "    5. [Dropping features](#Dropping)\n",
    "    6. [Plots](#Plots)\n",
    "    7. [Dummy variables](#Dummy)\n",
    "    8. [Correlation](#Correlation)\n",
    "    9. [Cross tab of correlated features](#Cross)\n",
    "    10. [Data imbalance](#Imbalance)\n",
    "4. [Modeling](#Modeling)\n",
    "    1. [Logistic Regression - Undersampled Data](#Logistic)\n",
    "    2. [Logistic Regression - Full Data](#Full)\n",
    "5. [Limitations and Suggestions](#Limitations)"
   ]
  },
  {
   "cell_type": "markdown",
   "metadata": {},
   "source": [
    "# I. Imports and loading data <a name=\"Imports\"></a>"
   ]
  },
  {
   "cell_type": "code",
   "execution_count": 1,
   "metadata": {},
   "outputs": [],
   "source": [
    "import pandas as pd\n",
    "import numpy as np\n",
    "import seaborn as sns\n",
    "import matplotlib.pyplot as plt\n",
    "import datetime\n",
    "import pylab as pl\n",
    "import warnings\n",
    "warnings.filterwarnings('ignore')\n",
    "\n",
    "import plotly.plotly as py\n",
    "from plotly.graph_objs import *\n",
    "import plotly.tools as tls\n",
    "import plotly.graph_objs as go\n",
    "\n",
    "import statsmodels.api as sm\n",
    "\n",
    "%matplotlib inline"
   ]
  },
  {
   "cell_type": "code",
   "execution_count": 1,
   "metadata": {},
   "outputs": [],
   "source": [
    "import plotly "
   ]
  },
  {
   "cell_type": "code",
   "execution_count": 3,
   "metadata": {},
   "outputs": [
    {
     "data": {
      "text/html": [
       "<div>\n",
       "<style scoped>\n",
       "    .dataframe tbody tr th:only-of-type {\n",
       "        vertical-align: middle;\n",
       "    }\n",
       "\n",
       "    .dataframe tbody tr th {\n",
       "        vertical-align: top;\n",
       "    }\n",
       "\n",
       "    .dataframe thead th {\n",
       "        text-align: right;\n",
       "    }\n",
       "</style>\n",
       "<table border=\"1\" class=\"dataframe\">\n",
       "  <thead>\n",
       "    <tr style=\"text-align: right;\">\n",
       "      <th></th>\n",
       "      <th>time_stamp</th>\n",
       "      <th>user_id</th>\n",
       "      <th>visited</th>\n",
       "    </tr>\n",
       "  </thead>\n",
       "  <tbody>\n",
       "    <tr>\n",
       "      <th>0</th>\n",
       "      <td>2014-04-22 03:53:30</td>\n",
       "      <td>1</td>\n",
       "      <td>1</td>\n",
       "    </tr>\n",
       "    <tr>\n",
       "      <th>1</th>\n",
       "      <td>2013-11-15 03:45:04</td>\n",
       "      <td>2</td>\n",
       "      <td>1</td>\n",
       "    </tr>\n",
       "    <tr>\n",
       "      <th>2</th>\n",
       "      <td>2013-11-29 03:45:04</td>\n",
       "      <td>2</td>\n",
       "      <td>1</td>\n",
       "    </tr>\n",
       "    <tr>\n",
       "      <th>3</th>\n",
       "      <td>2013-12-09 03:45:04</td>\n",
       "      <td>2</td>\n",
       "      <td>1</td>\n",
       "    </tr>\n",
       "    <tr>\n",
       "      <th>4</th>\n",
       "      <td>2013-12-25 03:45:04</td>\n",
       "      <td>2</td>\n",
       "      <td>1</td>\n",
       "    </tr>\n",
       "  </tbody>\n",
       "</table>\n",
       "</div>"
      ],
      "text/plain": [
       "            time_stamp  user_id  visited\n",
       "0  2014-04-22 03:53:30        1        1\n",
       "1  2013-11-15 03:45:04        2        1\n",
       "2  2013-11-29 03:45:04        2        1\n",
       "3  2013-12-09 03:45:04        2        1\n",
       "4  2013-12-25 03:45:04        2        1"
      ]
     },
     "execution_count": 3,
     "metadata": {},
     "output_type": "execute_result"
    }
   ],
   "source": [
    "user_engagement_df = pd.read_csv(\"user_engagement.csv\")\n",
    "user_engagement_df.head(5)"
   ]
  },
  {
   "cell_type": "code",
   "execution_count": 4,
   "metadata": {},
   "outputs": [
    {
     "data": {
      "text/html": [
       "<div>\n",
       "<style scoped>\n",
       "    .dataframe tbody tr th:only-of-type {\n",
       "        vertical-align: middle;\n",
       "    }\n",
       "\n",
       "    .dataframe tbody tr th {\n",
       "        vertical-align: top;\n",
       "    }\n",
       "\n",
       "    .dataframe thead th {\n",
       "        text-align: right;\n",
       "    }\n",
       "</style>\n",
       "<table border=\"1\" class=\"dataframe\">\n",
       "  <thead>\n",
       "    <tr style=\"text-align: right;\">\n",
       "      <th></th>\n",
       "      <th>object_id</th>\n",
       "      <th>creation_time</th>\n",
       "      <th>name</th>\n",
       "      <th>email</th>\n",
       "      <th>creation_source</th>\n",
       "      <th>last_session_creation_time</th>\n",
       "      <th>opted_in_to_mailing_list</th>\n",
       "      <th>enabled_for_marketing_drip</th>\n",
       "      <th>org_id</th>\n",
       "      <th>invited_by_user_id</th>\n",
       "      <th>email_domain</th>\n",
       "    </tr>\n",
       "  </thead>\n",
       "  <tbody>\n",
       "    <tr>\n",
       "      <th>0</th>\n",
       "      <td>1</td>\n",
       "      <td>2014-04-22 03:53:30</td>\n",
       "      <td>Clausen August</td>\n",
       "      <td>AugustCClausen@yahoo.com</td>\n",
       "      <td>GUEST_INVITE</td>\n",
       "      <td>1.398139e+09</td>\n",
       "      <td>1</td>\n",
       "      <td>0</td>\n",
       "      <td>11</td>\n",
       "      <td>10803.0</td>\n",
       "      <td>yahoo.com</td>\n",
       "    </tr>\n",
       "    <tr>\n",
       "      <th>1</th>\n",
       "      <td>2</td>\n",
       "      <td>2013-11-15 03:45:04</td>\n",
       "      <td>Poole Matthew</td>\n",
       "      <td>MatthewPoole@gustr.com</td>\n",
       "      <td>ORG_INVITE</td>\n",
       "      <td>1.396238e+09</td>\n",
       "      <td>0</td>\n",
       "      <td>0</td>\n",
       "      <td>1</td>\n",
       "      <td>316.0</td>\n",
       "      <td>gustr.com</td>\n",
       "    </tr>\n",
       "    <tr>\n",
       "      <th>2</th>\n",
       "      <td>3</td>\n",
       "      <td>2013-03-19 23:14:52</td>\n",
       "      <td>Bottrill Mitchell</td>\n",
       "      <td>MitchellBottrill@gustr.com</td>\n",
       "      <td>ORG_INVITE</td>\n",
       "      <td>1.363735e+09</td>\n",
       "      <td>0</td>\n",
       "      <td>0</td>\n",
       "      <td>94</td>\n",
       "      <td>1525.0</td>\n",
       "      <td>gustr.com</td>\n",
       "    </tr>\n",
       "    <tr>\n",
       "      <th>3</th>\n",
       "      <td>4</td>\n",
       "      <td>2013-05-21 08:09:28</td>\n",
       "      <td>Clausen Nicklas</td>\n",
       "      <td>NicklasSClausen@yahoo.com</td>\n",
       "      <td>GUEST_INVITE</td>\n",
       "      <td>1.369210e+09</td>\n",
       "      <td>0</td>\n",
       "      <td>0</td>\n",
       "      <td>1</td>\n",
       "      <td>5151.0</td>\n",
       "      <td>yahoo.com</td>\n",
       "    </tr>\n",
       "    <tr>\n",
       "      <th>4</th>\n",
       "      <td>5</td>\n",
       "      <td>2013-01-17 10:14:20</td>\n",
       "      <td>Raw Grace</td>\n",
       "      <td>GraceRaw@yahoo.com</td>\n",
       "      <td>GUEST_INVITE</td>\n",
       "      <td>1.358850e+09</td>\n",
       "      <td>0</td>\n",
       "      <td>0</td>\n",
       "      <td>193</td>\n",
       "      <td>5240.0</td>\n",
       "      <td>yahoo.com</td>\n",
       "    </tr>\n",
       "  </tbody>\n",
       "</table>\n",
       "</div>"
      ],
      "text/plain": [
       "   object_id        creation_time               name  \\\n",
       "0          1  2014-04-22 03:53:30     Clausen August   \n",
       "1          2  2013-11-15 03:45:04      Poole Matthew   \n",
       "2          3  2013-03-19 23:14:52  Bottrill Mitchell   \n",
       "3          4  2013-05-21 08:09:28    Clausen Nicklas   \n",
       "4          5  2013-01-17 10:14:20          Raw Grace   \n",
       "\n",
       "                        email creation_source  last_session_creation_time  \\\n",
       "0    AugustCClausen@yahoo.com    GUEST_INVITE                1.398139e+09   \n",
       "1      MatthewPoole@gustr.com      ORG_INVITE                1.396238e+09   \n",
       "2  MitchellBottrill@gustr.com      ORG_INVITE                1.363735e+09   \n",
       "3   NicklasSClausen@yahoo.com    GUEST_INVITE                1.369210e+09   \n",
       "4          GraceRaw@yahoo.com    GUEST_INVITE                1.358850e+09   \n",
       "\n",
       "   opted_in_to_mailing_list  enabled_for_marketing_drip  org_id  \\\n",
       "0                         1                           0      11   \n",
       "1                         0                           0       1   \n",
       "2                         0                           0      94   \n",
       "3                         0                           0       1   \n",
       "4                         0                           0     193   \n",
       "\n",
       "   invited_by_user_id email_domain  \n",
       "0             10803.0    yahoo.com  \n",
       "1               316.0    gustr.com  \n",
       "2              1525.0    gustr.com  \n",
       "3              5151.0    yahoo.com  \n",
       "4              5240.0    yahoo.com  "
      ]
     },
     "execution_count": 4,
     "metadata": {},
     "output_type": "execute_result"
    }
   ],
   "source": [
    "users_df = pd.read_csv(\"users.csv\", encoding = \"ISO-8859-1\")\n",
    "users_df.head(5)"
   ]
  },
  {
   "cell_type": "markdown",
   "metadata": {},
   "source": [
    "# II. Finding Adopted Users <a name=\"Finding\"></a>"
   ]
  },
  {
   "cell_type": "markdown",
   "metadata": {},
   "source": [
    "> Finding adopted users where adopted users defined as: users who visited >= 3 times in 7 day period"
   ]
  },
  {
   "cell_type": "code",
   "execution_count": 5,
   "metadata": {},
   "outputs": [
    {
     "data": {
      "text/plain": [
       "array([1])"
      ]
     },
     "execution_count": 5,
     "metadata": {},
     "output_type": "execute_result"
    }
   ],
   "source": [
    "# only value for 'visited' is 1, so dropping this column.\n",
    "user_engagement_df.visited.unique()"
   ]
  },
  {
   "cell_type": "code",
   "execution_count": 6,
   "metadata": {},
   "outputs": [],
   "source": [
    "user_engagement_df = user_engagement_df.drop(\"visited\", 1)"
   ]
  },
  {
   "cell_type": "code",
   "execution_count": 7,
   "metadata": {},
   "outputs": [],
   "source": [
    "# selecting only those who logged in at least 3 times, meaning appearance of at least...\n",
    "# ...3 time stamps in the dataframe per user_id\n",
    "\n",
    "count_df = user_engagement_df.groupby([\"user_id\"]).count()\n",
    "min_three = user_engagement_df.loc[user_engagement_df[\"user_id\"].isin(count_df[count_df[\"time_stamp\"] >= 3].index)]"
   ]
  },
  {
   "cell_type": "code",
   "execution_count": 8,
   "metadata": {},
   "outputs": [
    {
     "data": {
      "text/html": [
       "<div>\n",
       "<style scoped>\n",
       "    .dataframe tbody tr th:only-of-type {\n",
       "        vertical-align: middle;\n",
       "    }\n",
       "\n",
       "    .dataframe tbody tr th {\n",
       "        vertical-align: top;\n",
       "    }\n",
       "\n",
       "    .dataframe thead th {\n",
       "        text-align: right;\n",
       "    }\n",
       "</style>\n",
       "<table border=\"1\" class=\"dataframe\">\n",
       "  <thead>\n",
       "    <tr style=\"text-align: right;\">\n",
       "      <th></th>\n",
       "      <th>time_stamp</th>\n",
       "      <th>user_id</th>\n",
       "    </tr>\n",
       "  </thead>\n",
       "  <tbody>\n",
       "    <tr>\n",
       "      <th>1</th>\n",
       "      <td>2013-11-15 03:45:04</td>\n",
       "      <td>2</td>\n",
       "    </tr>\n",
       "    <tr>\n",
       "      <th>2</th>\n",
       "      <td>2013-11-29 03:45:04</td>\n",
       "      <td>2</td>\n",
       "    </tr>\n",
       "    <tr>\n",
       "      <th>3</th>\n",
       "      <td>2013-12-09 03:45:04</td>\n",
       "      <td>2</td>\n",
       "    </tr>\n",
       "    <tr>\n",
       "      <th>4</th>\n",
       "      <td>2013-12-25 03:45:04</td>\n",
       "      <td>2</td>\n",
       "    </tr>\n",
       "    <tr>\n",
       "      <th>5</th>\n",
       "      <td>2013-12-31 03:45:04</td>\n",
       "      <td>2</td>\n",
       "    </tr>\n",
       "  </tbody>\n",
       "</table>\n",
       "</div>"
      ],
      "text/plain": [
       "            time_stamp  user_id\n",
       "1  2013-11-15 03:45:04        2\n",
       "2  2013-11-29 03:45:04        2\n",
       "3  2013-12-09 03:45:04        2\n",
       "4  2013-12-25 03:45:04        2\n",
       "5  2013-12-31 03:45:04        2"
      ]
     },
     "execution_count": 8,
     "metadata": {},
     "output_type": "execute_result"
    }
   ],
   "source": [
    "min_three.head(5)"
   ]
  },
  {
   "cell_type": "code",
   "execution_count": 9,
   "metadata": {},
   "outputs": [],
   "source": [
    "min_three[\"time_stamp\"] =  pd.to_datetime(min_three[\"time_stamp\"], format='%Y-%m-%d %H:%M:%S')"
   ]
  },
  {
   "cell_type": "code",
   "execution_count": 10,
   "metadata": {},
   "outputs": [
    {
     "data": {
      "text/html": [
       "<div>\n",
       "<style scoped>\n",
       "    .dataframe tbody tr th:only-of-type {\n",
       "        vertical-align: middle;\n",
       "    }\n",
       "\n",
       "    .dataframe tbody tr th {\n",
       "        vertical-align: top;\n",
       "    }\n",
       "\n",
       "    .dataframe thead th {\n",
       "        text-align: right;\n",
       "    }\n",
       "</style>\n",
       "<table border=\"1\" class=\"dataframe\">\n",
       "  <thead>\n",
       "    <tr style=\"text-align: right;\">\n",
       "      <th></th>\n",
       "      <th>time_stamp</th>\n",
       "      <th>user_id</th>\n",
       "    </tr>\n",
       "  </thead>\n",
       "  <tbody>\n",
       "    <tr>\n",
       "      <th>1</th>\n",
       "      <td>2013-11-15 03:45:04</td>\n",
       "      <td>2</td>\n",
       "    </tr>\n",
       "    <tr>\n",
       "      <th>2</th>\n",
       "      <td>2013-11-29 03:45:04</td>\n",
       "      <td>2</td>\n",
       "    </tr>\n",
       "    <tr>\n",
       "      <th>3</th>\n",
       "      <td>2013-12-09 03:45:04</td>\n",
       "      <td>2</td>\n",
       "    </tr>\n",
       "    <tr>\n",
       "      <th>4</th>\n",
       "      <td>2013-12-25 03:45:04</td>\n",
       "      <td>2</td>\n",
       "    </tr>\n",
       "    <tr>\n",
       "      <th>5</th>\n",
       "      <td>2013-12-31 03:45:04</td>\n",
       "      <td>2</td>\n",
       "    </tr>\n",
       "  </tbody>\n",
       "</table>\n",
       "</div>"
      ],
      "text/plain": [
       "           time_stamp  user_id\n",
       "1 2013-11-15 03:45:04        2\n",
       "2 2013-11-29 03:45:04        2\n",
       "3 2013-12-09 03:45:04        2\n",
       "4 2013-12-25 03:45:04        2\n",
       "5 2013-12-31 03:45:04        2"
      ]
     },
     "execution_count": 10,
     "metadata": {},
     "output_type": "execute_result"
    }
   ],
   "source": [
    "min_three.head(5)"
   ]
  },
  {
   "cell_type": "code",
   "execution_count": 11,
   "metadata": {},
   "outputs": [],
   "source": [
    "# finding earliest date, and latest date, aka the date range\n",
    "\n",
    "earliest_date = min_three.time_stamp.min()\n",
    "latest_date = min_three.time_stamp.max()"
   ]
  },
  {
   "cell_type": "code",
   "execution_count": 12,
   "metadata": {},
   "outputs": [],
   "source": [
    "# function source: Thibault Keterer at https://stackoverflow.com/questions/1060279/iterating-through-a-range-of-dates-in-python\n",
    "from datetime import timedelta, date\n",
    "\n",
    "def daterange(start_date, end_date):\n",
    "    for n in range(int ((end_date - start_date).days)):\n",
    "        yield start_date + timedelta(n)"
   ]
  },
  {
   "cell_type": "code",
   "execution_count": 13,
   "metadata": {},
   "outputs": [],
   "source": [
    "# create a set to have non-repeating user_ids that are adopted users\n",
    "full_adopted_list = list()\n",
    "\n",
    "# establish an earliest date and latest date through which to iterate\n",
    "for i in daterange(earliest_date, latest_date):\n",
    "    # the current end of 7 day date range to be checked for id's that show up at least 3 time\n",
    "    new_end_date = i + timedelta(days=6)\n",
    "\n",
    "    # date at which loop should stop, because there aren't 7 days left\n",
    "    upper_limit = latest_date - timedelta(days=7)\n",
    "\n",
    "    # break when towards end of date range and fewer than 7 days left\n",
    "    if (new_end_date > upper_limit):\n",
    "        break\n",
    "    # else, filter dataframe for the dates within that seven day range\n",
    "    else:\n",
    "        date_df = min_three[(min_three[\"time_stamp\"] > i) & (min_three[\"time_stamp\"] < new_end_date)]  \n",
    "        \n",
    "        # count/groupby how many of each user_id shows up, if count >= 3 then add to set\n",
    "        adopted_users_list = date_df.user_id.value_counts()[date_df.user_id.value_counts()>=3].index.tolist()\n",
    "        \n",
    "        full_adopted_list.extend(adopted_users_list)\n",
    "            \n",
    "    # iterate through the complete date range at 1-day increments\n",
    "    i = i + timedelta(days=1)"
   ]
  },
  {
   "cell_type": "code",
   "execution_count": 14,
   "metadata": {},
   "outputs": [],
   "source": [
    "adopted_users = set(full_adopted_list)"
   ]
  },
  {
   "cell_type": "code",
   "execution_count": 15,
   "metadata": {},
   "outputs": [
    {
     "name": "stdout",
     "output_type": "stream",
     "text": [
      "1520\n",
      "204087\n"
     ]
    }
   ],
   "source": [
    "# sanity check:\n",
    "# comparing number of unique adopted users with full length of adopted users, w/ repeat IDs\n",
    "print(len(adopted_users))\n",
    "print(len(full_adopted_list))"
   ]
  },
  {
   "cell_type": "code",
   "execution_count": 16,
   "metadata": {},
   "outputs": [],
   "source": [
    "# adding column for adopted users, if adopted then value = 1, else = 0\n",
    "users_df[\"adopted\"] = np.where(users_df[\"object_id\"].isin(adopted_users), 1, 0)"
   ]
  },
  {
   "cell_type": "code",
   "execution_count": 17,
   "metadata": {},
   "outputs": [
    {
     "data": {
      "text/html": [
       "<div>\n",
       "<style scoped>\n",
       "    .dataframe tbody tr th:only-of-type {\n",
       "        vertical-align: middle;\n",
       "    }\n",
       "\n",
       "    .dataframe tbody tr th {\n",
       "        vertical-align: top;\n",
       "    }\n",
       "\n",
       "    .dataframe thead th {\n",
       "        text-align: right;\n",
       "    }\n",
       "</style>\n",
       "<table border=\"1\" class=\"dataframe\">\n",
       "  <thead>\n",
       "    <tr style=\"text-align: right;\">\n",
       "      <th></th>\n",
       "      <th>object_id</th>\n",
       "      <th>creation_time</th>\n",
       "      <th>name</th>\n",
       "      <th>email</th>\n",
       "      <th>creation_source</th>\n",
       "      <th>last_session_creation_time</th>\n",
       "      <th>opted_in_to_mailing_list</th>\n",
       "      <th>enabled_for_marketing_drip</th>\n",
       "      <th>org_id</th>\n",
       "      <th>invited_by_user_id</th>\n",
       "      <th>email_domain</th>\n",
       "      <th>adopted</th>\n",
       "    </tr>\n",
       "  </thead>\n",
       "  <tbody>\n",
       "    <tr>\n",
       "      <th>0</th>\n",
       "      <td>1</td>\n",
       "      <td>2014-04-22 03:53:30</td>\n",
       "      <td>Clausen August</td>\n",
       "      <td>AugustCClausen@yahoo.com</td>\n",
       "      <td>GUEST_INVITE</td>\n",
       "      <td>1.398139e+09</td>\n",
       "      <td>1</td>\n",
       "      <td>0</td>\n",
       "      <td>11</td>\n",
       "      <td>10803.0</td>\n",
       "      <td>yahoo.com</td>\n",
       "      <td>0</td>\n",
       "    </tr>\n",
       "    <tr>\n",
       "      <th>1</th>\n",
       "      <td>2</td>\n",
       "      <td>2013-11-15 03:45:04</td>\n",
       "      <td>Poole Matthew</td>\n",
       "      <td>MatthewPoole@gustr.com</td>\n",
       "      <td>ORG_INVITE</td>\n",
       "      <td>1.396238e+09</td>\n",
       "      <td>0</td>\n",
       "      <td>0</td>\n",
       "      <td>1</td>\n",
       "      <td>316.0</td>\n",
       "      <td>gustr.com</td>\n",
       "      <td>1</td>\n",
       "    </tr>\n",
       "    <tr>\n",
       "      <th>2</th>\n",
       "      <td>3</td>\n",
       "      <td>2013-03-19 23:14:52</td>\n",
       "      <td>Bottrill Mitchell</td>\n",
       "      <td>MitchellBottrill@gustr.com</td>\n",
       "      <td>ORG_INVITE</td>\n",
       "      <td>1.363735e+09</td>\n",
       "      <td>0</td>\n",
       "      <td>0</td>\n",
       "      <td>94</td>\n",
       "      <td>1525.0</td>\n",
       "      <td>gustr.com</td>\n",
       "      <td>0</td>\n",
       "    </tr>\n",
       "    <tr>\n",
       "      <th>3</th>\n",
       "      <td>4</td>\n",
       "      <td>2013-05-21 08:09:28</td>\n",
       "      <td>Clausen Nicklas</td>\n",
       "      <td>NicklasSClausen@yahoo.com</td>\n",
       "      <td>GUEST_INVITE</td>\n",
       "      <td>1.369210e+09</td>\n",
       "      <td>0</td>\n",
       "      <td>0</td>\n",
       "      <td>1</td>\n",
       "      <td>5151.0</td>\n",
       "      <td>yahoo.com</td>\n",
       "      <td>0</td>\n",
       "    </tr>\n",
       "    <tr>\n",
       "      <th>4</th>\n",
       "      <td>5</td>\n",
       "      <td>2013-01-17 10:14:20</td>\n",
       "      <td>Raw Grace</td>\n",
       "      <td>GraceRaw@yahoo.com</td>\n",
       "      <td>GUEST_INVITE</td>\n",
       "      <td>1.358850e+09</td>\n",
       "      <td>0</td>\n",
       "      <td>0</td>\n",
       "      <td>193</td>\n",
       "      <td>5240.0</td>\n",
       "      <td>yahoo.com</td>\n",
       "      <td>0</td>\n",
       "    </tr>\n",
       "  </tbody>\n",
       "</table>\n",
       "</div>"
      ],
      "text/plain": [
       "   object_id        creation_time               name  \\\n",
       "0          1  2014-04-22 03:53:30     Clausen August   \n",
       "1          2  2013-11-15 03:45:04      Poole Matthew   \n",
       "2          3  2013-03-19 23:14:52  Bottrill Mitchell   \n",
       "3          4  2013-05-21 08:09:28    Clausen Nicklas   \n",
       "4          5  2013-01-17 10:14:20          Raw Grace   \n",
       "\n",
       "                        email creation_source  last_session_creation_time  \\\n",
       "0    AugustCClausen@yahoo.com    GUEST_INVITE                1.398139e+09   \n",
       "1      MatthewPoole@gustr.com      ORG_INVITE                1.396238e+09   \n",
       "2  MitchellBottrill@gustr.com      ORG_INVITE                1.363735e+09   \n",
       "3   NicklasSClausen@yahoo.com    GUEST_INVITE                1.369210e+09   \n",
       "4          GraceRaw@yahoo.com    GUEST_INVITE                1.358850e+09   \n",
       "\n",
       "   opted_in_to_mailing_list  enabled_for_marketing_drip  org_id  \\\n",
       "0                         1                           0      11   \n",
       "1                         0                           0       1   \n",
       "2                         0                           0      94   \n",
       "3                         0                           0       1   \n",
       "4                         0                           0     193   \n",
       "\n",
       "   invited_by_user_id email_domain  adopted  \n",
       "0             10803.0    yahoo.com        0  \n",
       "1               316.0    gustr.com        1  \n",
       "2              1525.0    gustr.com        0  \n",
       "3              5151.0    yahoo.com        0  \n",
       "4              5240.0    yahoo.com        0  "
      ]
     },
     "execution_count": 17,
     "metadata": {},
     "output_type": "execute_result"
    }
   ],
   "source": [
    "# sanity check\n",
    "users_df.head(5)"
   ]
  },
  {
   "cell_type": "markdown",
   "metadata": {},
   "source": [
    "# III. Feature Selection <a name=\"Feature\"></a>"
   ]
  },
  {
   "cell_type": "markdown",
   "metadata": {},
   "source": [
    "> Before jumping into models, I want to explore some basic, but informative, characteristics of the data and better understand the features themselves (distributions, noise, correlations and interactions, etc)."
   ]
  },
  {
   "cell_type": "markdown",
   "metadata": {},
   "source": [
    "## A. Amending org_id <a name=\"Org\"></a>"
   ]
  },
  {
   "cell_type": "markdown",
   "metadata": {},
   "source": [
    "> Changing org_id metric to reflect the size of the organization as opposed to the arbitrary org_id value. Without additional attributes describing the organization (its characteristics, type of company etc) the org_id is not a useful metric. However, it is possible to use org_id to calculate the size of the organization based on the frequency of the org_id in the dataframe."
   ]
  },
  {
   "cell_type": "code",
   "execution_count": 18,
   "metadata": {},
   "outputs": [
    {
     "data": {
      "text/plain": [
       "319"
      ]
     },
     "execution_count": 18,
     "metadata": {},
     "output_type": "execute_result"
    }
   ],
   "source": [
    "# how many users are not members of an org\n",
    "len(users_df[users_df['org_id'] == 0])"
   ]
  },
  {
   "cell_type": "code",
   "execution_count": 19,
   "metadata": {},
   "outputs": [
    {
     "name": "stdout",
     "output_type": "stream",
     "text": [
      "Number of unique orgs:  417\n",
      "OrgID  NumMembers\n",
      "0     319\n",
      "1     233\n",
      "2     201\n",
      "3     168\n",
      "4     159\n",
      "6     138\n",
      "5     128\n",
      "9     124\n",
      "7     119\n",
      "10    104\n",
      "Name: org_id, dtype: int64\n"
     ]
    }
   ],
   "source": [
    "# what are the largest organizations in terms of membership numbers in this dataset\n",
    "orgs_member_count = users_df['org_id'].value_counts()\n",
    "print(\"Number of unique orgs: \", len(orgs_member_count))\n",
    "print(\"OrgID  NumMembers\")\n",
    "print(orgs_member_count.head(10))"
   ]
  },
  {
   "cell_type": "code",
   "execution_count": 20,
   "metadata": {},
   "outputs": [
    {
     "data": {
      "text/plain": [
       "count    417.000000\n",
       "mean      28.776978\n",
       "std       27.560173\n",
       "min        2.000000\n",
       "25%       17.000000\n",
       "50%       22.000000\n",
       "75%       29.000000\n",
       "max      319.000000\n",
       "Name: org_id, dtype: float64"
      ]
     },
     "execution_count": 20,
     "metadata": {},
     "output_type": "execute_result"
    }
   ],
   "source": [
    "# what is the distribution of sizes of organizations?\n",
    "# checking distribution of organization size... \n",
    "# ...to get a feeling for what constitutes a large org, medium org, small org\n",
    "orgs_member_count.describe()"
   ]
  },
  {
   "cell_type": "code",
   "execution_count": 21,
   "metadata": {},
   "outputs": [
    {
     "data": {
      "text/html": [
       "<div>\n",
       "<style scoped>\n",
       "    .dataframe tbody tr th:only-of-type {\n",
       "        vertical-align: middle;\n",
       "    }\n",
       "\n",
       "    .dataframe tbody tr th {\n",
       "        vertical-align: top;\n",
       "    }\n",
       "\n",
       "    .dataframe thead th {\n",
       "        text-align: right;\n",
       "    }\n",
       "</style>\n",
       "<table border=\"1\" class=\"dataframe\">\n",
       "  <thead>\n",
       "    <tr style=\"text-align: right;\">\n",
       "      <th></th>\n",
       "      <th>object_id</th>\n",
       "      <th>creation_time</th>\n",
       "      <th>name</th>\n",
       "      <th>email</th>\n",
       "      <th>creation_source</th>\n",
       "      <th>last_session_creation_time</th>\n",
       "      <th>opted_in_to_mailing_list</th>\n",
       "      <th>enabled_for_marketing_drip</th>\n",
       "      <th>org_id</th>\n",
       "      <th>invited_by_user_id</th>\n",
       "      <th>email_domain</th>\n",
       "      <th>adopted</th>\n",
       "      <th>org_num_members</th>\n",
       "    </tr>\n",
       "  </thead>\n",
       "  <tbody>\n",
       "    <tr>\n",
       "      <th>0</th>\n",
       "      <td>1</td>\n",
       "      <td>2014-04-22 03:53:30</td>\n",
       "      <td>Clausen August</td>\n",
       "      <td>AugustCClausen@yahoo.com</td>\n",
       "      <td>GUEST_INVITE</td>\n",
       "      <td>1.398139e+09</td>\n",
       "      <td>1</td>\n",
       "      <td>0</td>\n",
       "      <td>11</td>\n",
       "      <td>10803.0</td>\n",
       "      <td>yahoo.com</td>\n",
       "      <td>0</td>\n",
       "      <td>75</td>\n",
       "    </tr>\n",
       "    <tr>\n",
       "      <th>1</th>\n",
       "      <td>2</td>\n",
       "      <td>2013-11-15 03:45:04</td>\n",
       "      <td>Poole Matthew</td>\n",
       "      <td>MatthewPoole@gustr.com</td>\n",
       "      <td>ORG_INVITE</td>\n",
       "      <td>1.396238e+09</td>\n",
       "      <td>0</td>\n",
       "      <td>0</td>\n",
       "      <td>1</td>\n",
       "      <td>316.0</td>\n",
       "      <td>gustr.com</td>\n",
       "      <td>1</td>\n",
       "      <td>233</td>\n",
       "    </tr>\n",
       "    <tr>\n",
       "      <th>2</th>\n",
       "      <td>3</td>\n",
       "      <td>2013-03-19 23:14:52</td>\n",
       "      <td>Bottrill Mitchell</td>\n",
       "      <td>MitchellBottrill@gustr.com</td>\n",
       "      <td>ORG_INVITE</td>\n",
       "      <td>1.363735e+09</td>\n",
       "      <td>0</td>\n",
       "      <td>0</td>\n",
       "      <td>94</td>\n",
       "      <td>1525.0</td>\n",
       "      <td>gustr.com</td>\n",
       "      <td>0</td>\n",
       "      <td>32</td>\n",
       "    </tr>\n",
       "    <tr>\n",
       "      <th>3</th>\n",
       "      <td>4</td>\n",
       "      <td>2013-05-21 08:09:28</td>\n",
       "      <td>Clausen Nicklas</td>\n",
       "      <td>NicklasSClausen@yahoo.com</td>\n",
       "      <td>GUEST_INVITE</td>\n",
       "      <td>1.369210e+09</td>\n",
       "      <td>0</td>\n",
       "      <td>0</td>\n",
       "      <td>1</td>\n",
       "      <td>5151.0</td>\n",
       "      <td>yahoo.com</td>\n",
       "      <td>0</td>\n",
       "      <td>233</td>\n",
       "    </tr>\n",
       "    <tr>\n",
       "      <th>4</th>\n",
       "      <td>5</td>\n",
       "      <td>2013-01-17 10:14:20</td>\n",
       "      <td>Raw Grace</td>\n",
       "      <td>GraceRaw@yahoo.com</td>\n",
       "      <td>GUEST_INVITE</td>\n",
       "      <td>1.358850e+09</td>\n",
       "      <td>0</td>\n",
       "      <td>0</td>\n",
       "      <td>193</td>\n",
       "      <td>5240.0</td>\n",
       "      <td>yahoo.com</td>\n",
       "      <td>0</td>\n",
       "      <td>16</td>\n",
       "    </tr>\n",
       "  </tbody>\n",
       "</table>\n",
       "</div>"
      ],
      "text/plain": [
       "   object_id        creation_time               name  \\\n",
       "0          1  2014-04-22 03:53:30     Clausen August   \n",
       "1          2  2013-11-15 03:45:04      Poole Matthew   \n",
       "2          3  2013-03-19 23:14:52  Bottrill Mitchell   \n",
       "3          4  2013-05-21 08:09:28    Clausen Nicklas   \n",
       "4          5  2013-01-17 10:14:20          Raw Grace   \n",
       "\n",
       "                        email creation_source  last_session_creation_time  \\\n",
       "0    AugustCClausen@yahoo.com    GUEST_INVITE                1.398139e+09   \n",
       "1      MatthewPoole@gustr.com      ORG_INVITE                1.396238e+09   \n",
       "2  MitchellBottrill@gustr.com      ORG_INVITE                1.363735e+09   \n",
       "3   NicklasSClausen@yahoo.com    GUEST_INVITE                1.369210e+09   \n",
       "4          GraceRaw@yahoo.com    GUEST_INVITE                1.358850e+09   \n",
       "\n",
       "   opted_in_to_mailing_list  enabled_for_marketing_drip  org_id  \\\n",
       "0                         1                           0      11   \n",
       "1                         0                           0       1   \n",
       "2                         0                           0      94   \n",
       "3                         0                           0       1   \n",
       "4                         0                           0     193   \n",
       "\n",
       "   invited_by_user_id email_domain  adopted  org_num_members  \n",
       "0             10803.0    yahoo.com        0               75  \n",
       "1               316.0    gustr.com        1              233  \n",
       "2              1525.0    gustr.com        0               32  \n",
       "3              5151.0    yahoo.com        0              233  \n",
       "4              5240.0    yahoo.com        0               16  "
      ]
     },
     "execution_count": 21,
     "metadata": {},
     "output_type": "execute_result"
    }
   ],
   "source": [
    "# creating a column for org_size\n",
    "users_df['org_num_members'] = users_df.groupby(['org_id'])['object_id'].transform('count')\n",
    "users_df.head(5)"
   ]
  },
  {
   "cell_type": "code",
   "execution_count": 22,
   "metadata": {},
   "outputs": [
    {
     "name": "stdout",
     "output_type": "stream",
     "text": [
      "75\n",
      "75\n"
     ]
    }
   ],
   "source": [
    "# sanity check, should be the same output\n",
    "print(len(users_df['org_num_members'].value_counts()))\n",
    "print(len(orgs_member_count.unique()))"
   ]
  },
  {
   "cell_type": "code",
   "execution_count": 23,
   "metadata": {},
   "outputs": [
    {
     "data": {
      "text/plain": [
       "12000"
      ]
     },
     "execution_count": 23,
     "metadata": {},
     "output_type": "execute_result"
    }
   ],
   "source": [
    "len(users_df)"
   ]
  },
  {
   "cell_type": "code",
   "execution_count": 24,
   "metadata": {},
   "outputs": [],
   "source": [
    "# dropping org_id\n",
    "users_df = users_df.drop(columns=[\"org_id\"])"
   ]
  },
  {
   "cell_type": "code",
   "execution_count": 25,
   "metadata": {},
   "outputs": [
    {
     "data": {
      "text/html": [
       "<div>\n",
       "<style scoped>\n",
       "    .dataframe tbody tr th:only-of-type {\n",
       "        vertical-align: middle;\n",
       "    }\n",
       "\n",
       "    .dataframe tbody tr th {\n",
       "        vertical-align: top;\n",
       "    }\n",
       "\n",
       "    .dataframe thead th {\n",
       "        text-align: right;\n",
       "    }\n",
       "</style>\n",
       "<table border=\"1\" class=\"dataframe\">\n",
       "  <thead>\n",
       "    <tr style=\"text-align: right;\">\n",
       "      <th></th>\n",
       "      <th>object_id</th>\n",
       "      <th>creation_time</th>\n",
       "      <th>name</th>\n",
       "      <th>email</th>\n",
       "      <th>creation_source</th>\n",
       "      <th>last_session_creation_time</th>\n",
       "      <th>opted_in_to_mailing_list</th>\n",
       "      <th>enabled_for_marketing_drip</th>\n",
       "      <th>invited_by_user_id</th>\n",
       "      <th>email_domain</th>\n",
       "      <th>adopted</th>\n",
       "      <th>org_num_members</th>\n",
       "    </tr>\n",
       "  </thead>\n",
       "  <tbody>\n",
       "    <tr>\n",
       "      <th>0</th>\n",
       "      <td>1</td>\n",
       "      <td>2014-04-22 03:53:30</td>\n",
       "      <td>Clausen August</td>\n",
       "      <td>AugustCClausen@yahoo.com</td>\n",
       "      <td>GUEST_INVITE</td>\n",
       "      <td>1.398139e+09</td>\n",
       "      <td>1</td>\n",
       "      <td>0</td>\n",
       "      <td>10803.0</td>\n",
       "      <td>yahoo.com</td>\n",
       "      <td>0</td>\n",
       "      <td>75</td>\n",
       "    </tr>\n",
       "    <tr>\n",
       "      <th>1</th>\n",
       "      <td>2</td>\n",
       "      <td>2013-11-15 03:45:04</td>\n",
       "      <td>Poole Matthew</td>\n",
       "      <td>MatthewPoole@gustr.com</td>\n",
       "      <td>ORG_INVITE</td>\n",
       "      <td>1.396238e+09</td>\n",
       "      <td>0</td>\n",
       "      <td>0</td>\n",
       "      <td>316.0</td>\n",
       "      <td>gustr.com</td>\n",
       "      <td>1</td>\n",
       "      <td>233</td>\n",
       "    </tr>\n",
       "  </tbody>\n",
       "</table>\n",
       "</div>"
      ],
      "text/plain": [
       "   object_id        creation_time            name                     email  \\\n",
       "0          1  2014-04-22 03:53:30  Clausen August  AugustCClausen@yahoo.com   \n",
       "1          2  2013-11-15 03:45:04   Poole Matthew    MatthewPoole@gustr.com   \n",
       "\n",
       "  creation_source  last_session_creation_time  opted_in_to_mailing_list  \\\n",
       "0    GUEST_INVITE                1.398139e+09                         1   \n",
       "1      ORG_INVITE                1.396238e+09                         0   \n",
       "\n",
       "   enabled_for_marketing_drip  invited_by_user_id email_domain  adopted  \\\n",
       "0                           0             10803.0    yahoo.com        0   \n",
       "1                           0               316.0    gustr.com        1   \n",
       "\n",
       "   org_num_members  \n",
       "0               75  \n",
       "1              233  "
      ]
     },
     "execution_count": 25,
     "metadata": {},
     "output_type": "execute_result"
    }
   ],
   "source": [
    "users_df.head(2)"
   ]
  },
  {
   "cell_type": "markdown",
   "metadata": {},
   "source": [
    "## B. Amending email_domain <a name=\"Email\"></a>"
   ]
  },
  {
   "cell_type": "markdown",
   "metadata": {},
   "source": [
    "> The vast majority (90%) of email_domains are one of six email domains (\"gmail.com\", \"yahoo.com\", \"jourrapide.com\", \"cuvox.de\", \"gustr.com\", \"hotmail.com\"). Thus, I am retaining the email_domain value for users who sign up with one of those most common email domains, and changing the value of email_domain to \"other\" for users who did not sign up with one of those 6 domains."
   ]
  },
  {
   "cell_type": "code",
   "execution_count": 26,
   "metadata": {},
   "outputs": [
    {
     "data": {
      "text/plain": [
       "gmail.com         3562\n",
       "yahoo.com         2447\n",
       "jourrapide.com    1259\n",
       "cuvox.de          1202\n",
       "gustr.com         1179\n",
       "hotmail.com       1165\n",
       "rerwl.com            2\n",
       "qgjbc.com            2\n",
       "xvnbr.com            2\n",
       "xybhi.com            2\n",
       "Name: email_domain, dtype: int64"
      ]
     },
     "execution_count": 26,
     "metadata": {},
     "output_type": "execute_result"
    }
   ],
   "source": [
    "email_domains = users_df['email_domain'].value_counts()\n",
    "email_domains.head(10)"
   ]
  },
  {
   "cell_type": "code",
   "execution_count": 27,
   "metadata": {},
   "outputs": [
    {
     "data": {
      "text/plain": [
       "rerwl.com    2\n",
       "qgjbc.com    2\n",
       "xvnbr.com    2\n",
       "Name: email_domain, dtype: int64"
      ]
     },
     "execution_count": 27,
     "metadata": {},
     "output_type": "execute_result"
    }
   ],
   "source": [
    "top_domains = [\"gmail.com\", \"yahoo.com\", \"jourrapide.com\", \"cuvox.de\", \"gustr.com\", \"hotmail.com\"]\n",
    "email_domains = email_domains.drop(labels=top_domains)\n",
    "# sanity check\n",
    "email_domains.head(3)"
   ]
  },
  {
   "cell_type": "code",
   "execution_count": 28,
   "metadata": {},
   "outputs": [],
   "source": [
    "lower_domains = email_domains.index.tolist()"
   ]
  },
  {
   "cell_type": "code",
   "execution_count": 29,
   "metadata": {},
   "outputs": [],
   "source": [
    "# renaming the values in email_domain to \"other\" if the value is not in list of top 6 email_domains\n",
    "# otherwise retaining the email_domain value as is\n",
    "users_df[\"email\"] = users_df[\"email_domain\"]\n",
    "users_df.loc[users_df[\"email_domain\"].isin(lower_domains), \"email\"] = \"other\""
   ]
  },
  {
   "cell_type": "code",
   "execution_count": 30,
   "metadata": {},
   "outputs": [
    {
     "name": "stdout",
     "output_type": "stream",
     "text": [
      "12000\n",
      "7\n"
     ]
    }
   ],
   "source": [
    "# sanity check, should be same value\n",
    "print(len(users_df))\n",
    "print(len(users_df.email.unique()))"
   ]
  },
  {
   "cell_type": "code",
   "execution_count": 31,
   "metadata": {},
   "outputs": [],
   "source": [
    "# dropping email_domain\n",
    "users_df = users_df.drop(columns=[\"email_domain\"])"
   ]
  },
  {
   "cell_type": "code",
   "execution_count": 32,
   "metadata": {},
   "outputs": [
    {
     "data": {
      "text/html": [
       "<div>\n",
       "<style scoped>\n",
       "    .dataframe tbody tr th:only-of-type {\n",
       "        vertical-align: middle;\n",
       "    }\n",
       "\n",
       "    .dataframe tbody tr th {\n",
       "        vertical-align: top;\n",
       "    }\n",
       "\n",
       "    .dataframe thead th {\n",
       "        text-align: right;\n",
       "    }\n",
       "</style>\n",
       "<table border=\"1\" class=\"dataframe\">\n",
       "  <thead>\n",
       "    <tr style=\"text-align: right;\">\n",
       "      <th></th>\n",
       "      <th>object_id</th>\n",
       "      <th>creation_time</th>\n",
       "      <th>name</th>\n",
       "      <th>email</th>\n",
       "      <th>creation_source</th>\n",
       "      <th>last_session_creation_time</th>\n",
       "      <th>opted_in_to_mailing_list</th>\n",
       "      <th>enabled_for_marketing_drip</th>\n",
       "      <th>invited_by_user_id</th>\n",
       "      <th>adopted</th>\n",
       "      <th>org_num_members</th>\n",
       "    </tr>\n",
       "  </thead>\n",
       "  <tbody>\n",
       "    <tr>\n",
       "      <th>0</th>\n",
       "      <td>1</td>\n",
       "      <td>2014-04-22 03:53:30</td>\n",
       "      <td>Clausen August</td>\n",
       "      <td>yahoo.com</td>\n",
       "      <td>GUEST_INVITE</td>\n",
       "      <td>1.398139e+09</td>\n",
       "      <td>1</td>\n",
       "      <td>0</td>\n",
       "      <td>10803.0</td>\n",
       "      <td>0</td>\n",
       "      <td>75</td>\n",
       "    </tr>\n",
       "    <tr>\n",
       "      <th>1</th>\n",
       "      <td>2</td>\n",
       "      <td>2013-11-15 03:45:04</td>\n",
       "      <td>Poole Matthew</td>\n",
       "      <td>gustr.com</td>\n",
       "      <td>ORG_INVITE</td>\n",
       "      <td>1.396238e+09</td>\n",
       "      <td>0</td>\n",
       "      <td>0</td>\n",
       "      <td>316.0</td>\n",
       "      <td>1</td>\n",
       "      <td>233</td>\n",
       "    </tr>\n",
       "  </tbody>\n",
       "</table>\n",
       "</div>"
      ],
      "text/plain": [
       "   object_id        creation_time            name      email creation_source  \\\n",
       "0          1  2014-04-22 03:53:30  Clausen August  yahoo.com    GUEST_INVITE   \n",
       "1          2  2013-11-15 03:45:04   Poole Matthew  gustr.com      ORG_INVITE   \n",
       "\n",
       "   last_session_creation_time  opted_in_to_mailing_list  \\\n",
       "0                1.398139e+09                         1   \n",
       "1                1.396238e+09                         0   \n",
       "\n",
       "   enabled_for_marketing_drip  invited_by_user_id  adopted  org_num_members  \n",
       "0                           0             10803.0        0               75  \n",
       "1                           0               316.0        1              233  "
      ]
     },
     "execution_count": 32,
     "metadata": {},
     "output_type": "execute_result"
    }
   ],
   "source": [
    "# sanity check\n",
    "users_df.head(2)"
   ]
  },
  {
   "cell_type": "markdown",
   "metadata": {},
   "source": [
    "## C. Amending creation_time <a name=\"Creation\"></a>"
   ]
  },
  {
   "cell_type": "markdown",
   "metadata": {},
   "source": [
    "> Changing creation_time metric to reflect the weekday on which the account was created as opposed to the entire date with minutes and seconds. Then ammending to weekend or weekday. Weekday creation of the account would suggest perhaps that usage is work-related, whereas on the weekend might suggest personal usage outside of work."
   ]
  },
  {
   "cell_type": "code",
   "execution_count": 33,
   "metadata": {},
   "outputs": [
    {
     "name": "stdout",
     "output_type": "stream",
     "text": [
      "<class 'str'>\n",
      "2014-04-22 03:53:30\n"
     ]
    }
   ],
   "source": [
    "# checking data type of creation_time \n",
    "x = users_df.iloc[0][\"creation_time\"]\n",
    "print(type(x))\n",
    "print(x)"
   ]
  },
  {
   "cell_type": "code",
   "execution_count": 34,
   "metadata": {},
   "outputs": [],
   "source": [
    "# transform from string to datetime object\n",
    "users_df[\"creation_time\"] = pd.to_datetime(users_df[\"creation_time\"])"
   ]
  },
  {
   "cell_type": "code",
   "execution_count": 35,
   "metadata": {},
   "outputs": [],
   "source": [
    "# create column with day of week based off of datetime creation_time column\n",
    "users_df[\"day_of_week\"] = users_df[\"creation_time\"].dt.weekday_name"
   ]
  },
  {
   "cell_type": "code",
   "execution_count": 36,
   "metadata": {},
   "outputs": [
    {
     "data": {
      "text/html": [
       "<div>\n",
       "<style scoped>\n",
       "    .dataframe tbody tr th:only-of-type {\n",
       "        vertical-align: middle;\n",
       "    }\n",
       "\n",
       "    .dataframe tbody tr th {\n",
       "        vertical-align: top;\n",
       "    }\n",
       "\n",
       "    .dataframe thead th {\n",
       "        text-align: right;\n",
       "    }\n",
       "</style>\n",
       "<table border=\"1\" class=\"dataframe\">\n",
       "  <thead>\n",
       "    <tr style=\"text-align: right;\">\n",
       "      <th></th>\n",
       "      <th>object_id</th>\n",
       "      <th>creation_time</th>\n",
       "      <th>name</th>\n",
       "      <th>email</th>\n",
       "      <th>creation_source</th>\n",
       "      <th>last_session_creation_time</th>\n",
       "      <th>opted_in_to_mailing_list</th>\n",
       "      <th>enabled_for_marketing_drip</th>\n",
       "      <th>invited_by_user_id</th>\n",
       "      <th>adopted</th>\n",
       "      <th>org_num_members</th>\n",
       "      <th>day_of_week</th>\n",
       "    </tr>\n",
       "  </thead>\n",
       "  <tbody>\n",
       "    <tr>\n",
       "      <th>0</th>\n",
       "      <td>1</td>\n",
       "      <td>2014-04-22 03:53:30</td>\n",
       "      <td>Clausen August</td>\n",
       "      <td>yahoo.com</td>\n",
       "      <td>GUEST_INVITE</td>\n",
       "      <td>1.398139e+09</td>\n",
       "      <td>1</td>\n",
       "      <td>0</td>\n",
       "      <td>10803.0</td>\n",
       "      <td>0</td>\n",
       "      <td>75</td>\n",
       "      <td>Tuesday</td>\n",
       "    </tr>\n",
       "  </tbody>\n",
       "</table>\n",
       "</div>"
      ],
      "text/plain": [
       "   object_id       creation_time            name      email creation_source  \\\n",
       "0          1 2014-04-22 03:53:30  Clausen August  yahoo.com    GUEST_INVITE   \n",
       "\n",
       "   last_session_creation_time  opted_in_to_mailing_list  \\\n",
       "0                1.398139e+09                         1   \n",
       "\n",
       "   enabled_for_marketing_drip  invited_by_user_id  adopted  org_num_members  \\\n",
       "0                           0             10803.0        0               75   \n",
       "\n",
       "  day_of_week  \n",
       "0     Tuesday  "
      ]
     },
     "execution_count": 36,
     "metadata": {},
     "output_type": "execute_result"
    }
   ],
   "source": [
    "# sanity check \n",
    "users_df.head(1)"
   ]
  },
  {
   "cell_type": "code",
   "execution_count": 37,
   "metadata": {},
   "outputs": [],
   "source": [
    "# drop creation_time\n",
    "users_df = users_df.drop(columns = [\"creation_time\"])"
   ]
  },
  {
   "cell_type": "code",
   "execution_count": 38,
   "metadata": {},
   "outputs": [
    {
     "data": {
      "text/html": [
       "<div>\n",
       "<style scoped>\n",
       "    .dataframe tbody tr th:only-of-type {\n",
       "        vertical-align: middle;\n",
       "    }\n",
       "\n",
       "    .dataframe tbody tr th {\n",
       "        vertical-align: top;\n",
       "    }\n",
       "\n",
       "    .dataframe thead th {\n",
       "        text-align: right;\n",
       "    }\n",
       "</style>\n",
       "<table border=\"1\" class=\"dataframe\">\n",
       "  <thead>\n",
       "    <tr style=\"text-align: right;\">\n",
       "      <th></th>\n",
       "      <th>object_id</th>\n",
       "      <th>name</th>\n",
       "      <th>email</th>\n",
       "      <th>creation_source</th>\n",
       "      <th>last_session_creation_time</th>\n",
       "      <th>opted_in_to_mailing_list</th>\n",
       "      <th>enabled_for_marketing_drip</th>\n",
       "      <th>invited_by_user_id</th>\n",
       "      <th>adopted</th>\n",
       "      <th>org_num_members</th>\n",
       "      <th>day_of_week</th>\n",
       "    </tr>\n",
       "  </thead>\n",
       "  <tbody>\n",
       "    <tr>\n",
       "      <th>0</th>\n",
       "      <td>1</td>\n",
       "      <td>Clausen August</td>\n",
       "      <td>yahoo.com</td>\n",
       "      <td>GUEST_INVITE</td>\n",
       "      <td>1.398139e+09</td>\n",
       "      <td>1</td>\n",
       "      <td>0</td>\n",
       "      <td>10803.0</td>\n",
       "      <td>0</td>\n",
       "      <td>75</td>\n",
       "      <td>1</td>\n",
       "    </tr>\n",
       "    <tr>\n",
       "      <th>1</th>\n",
       "      <td>2</td>\n",
       "      <td>Poole Matthew</td>\n",
       "      <td>gustr.com</td>\n",
       "      <td>ORG_INVITE</td>\n",
       "      <td>1.396238e+09</td>\n",
       "      <td>0</td>\n",
       "      <td>0</td>\n",
       "      <td>316.0</td>\n",
       "      <td>1</td>\n",
       "      <td>233</td>\n",
       "      <td>0</td>\n",
       "    </tr>\n",
       "    <tr>\n",
       "      <th>2</th>\n",
       "      <td>3</td>\n",
       "      <td>Bottrill Mitchell</td>\n",
       "      <td>gustr.com</td>\n",
       "      <td>ORG_INVITE</td>\n",
       "      <td>1.363735e+09</td>\n",
       "      <td>0</td>\n",
       "      <td>0</td>\n",
       "      <td>1525.0</td>\n",
       "      <td>0</td>\n",
       "      <td>32</td>\n",
       "      <td>1</td>\n",
       "    </tr>\n",
       "    <tr>\n",
       "      <th>3</th>\n",
       "      <td>4</td>\n",
       "      <td>Clausen Nicklas</td>\n",
       "      <td>yahoo.com</td>\n",
       "      <td>GUEST_INVITE</td>\n",
       "      <td>1.369210e+09</td>\n",
       "      <td>0</td>\n",
       "      <td>0</td>\n",
       "      <td>5151.0</td>\n",
       "      <td>0</td>\n",
       "      <td>233</td>\n",
       "      <td>1</td>\n",
       "    </tr>\n",
       "    <tr>\n",
       "      <th>4</th>\n",
       "      <td>5</td>\n",
       "      <td>Raw Grace</td>\n",
       "      <td>yahoo.com</td>\n",
       "      <td>GUEST_INVITE</td>\n",
       "      <td>1.358850e+09</td>\n",
       "      <td>0</td>\n",
       "      <td>0</td>\n",
       "      <td>5240.0</td>\n",
       "      <td>0</td>\n",
       "      <td>16</td>\n",
       "      <td>1</td>\n",
       "    </tr>\n",
       "  </tbody>\n",
       "</table>\n",
       "</div>"
      ],
      "text/plain": [
       "   object_id               name      email creation_source  \\\n",
       "0          1     Clausen August  yahoo.com    GUEST_INVITE   \n",
       "1          2      Poole Matthew  gustr.com      ORG_INVITE   \n",
       "2          3  Bottrill Mitchell  gustr.com      ORG_INVITE   \n",
       "3          4    Clausen Nicklas  yahoo.com    GUEST_INVITE   \n",
       "4          5          Raw Grace  yahoo.com    GUEST_INVITE   \n",
       "\n",
       "   last_session_creation_time  opted_in_to_mailing_list  \\\n",
       "0                1.398139e+09                         1   \n",
       "1                1.396238e+09                         0   \n",
       "2                1.363735e+09                         0   \n",
       "3                1.369210e+09                         0   \n",
       "4                1.358850e+09                         0   \n",
       "\n",
       "   enabled_for_marketing_drip  invited_by_user_id  adopted  org_num_members  \\\n",
       "0                           0             10803.0        0               75   \n",
       "1                           0               316.0        1              233   \n",
       "2                           0              1525.0        0               32   \n",
       "3                           0              5151.0        0              233   \n",
       "4                           0              5240.0        0               16   \n",
       "\n",
       "   day_of_week  \n",
       "0            1  \n",
       "1            0  \n",
       "2            1  \n",
       "3            1  \n",
       "4            1  "
      ]
     },
     "execution_count": 38,
     "metadata": {},
     "output_type": "execute_result"
    }
   ],
   "source": [
    "# weekend = 0, weekday = 1\n",
    "users_df[\"day_of_week\"].loc[users_df[\"day_of_week\"] == \"Friday\"] = 0\n",
    "users_df[\"day_of_week\"].loc[users_df[\"day_of_week\"] == \"Saturday\"] = 0\n",
    "users_df[\"day_of_week\"].loc[users_df[\"day_of_week\"] == \"Sunday\"] = 0\n",
    "users_df[\"day_of_week\"].loc[users_df[\"day_of_week\"] != 0] = 1\n",
    "users_df.head(5)"
   ]
  },
  {
   "cell_type": "code",
   "execution_count": 39,
   "metadata": {},
   "outputs": [
    {
     "data": {
      "text/plain": [
       "object_id                        0\n",
       "name                             0\n",
       "email                            0\n",
       "creation_source                  0\n",
       "last_session_creation_time    3177\n",
       "opted_in_to_mailing_list         0\n",
       "enabled_for_marketing_drip       0\n",
       "invited_by_user_id            5583\n",
       "adopted                          0\n",
       "org_num_members                  0\n",
       "day_of_week                      0\n",
       "dtype: int64"
      ]
     },
     "execution_count": 39,
     "metadata": {},
     "output_type": "execute_result"
    }
   ],
   "source": [
    "# checking for nan's in day_of_week as sanity check\n",
    "users_df.isna().sum()"
   ]
  },
  {
   "cell_type": "markdown",
   "metadata": {},
   "source": [
    "## D. Amending invited_by_user_id <a name=\"User\"></a>"
   ]
  },
  {
   "cell_type": "markdown",
   "metadata": {},
   "source": [
    "> Changing invited_by_user_id to binary --> was the user invited/referred by another user or not. Given time constraints, the specific user who referred them is not relevant at this stage. However, with more time an avenue to potentially explore further would be some sort of network analysis to determine if certain users/companies are 'hotspots' for adopted users."
   ]
  },
  {
   "cell_type": "code",
   "execution_count": 40,
   "metadata": {},
   "outputs": [
    {
     "data": {
      "text/plain": [
       "object_id                        0\n",
       "name                             0\n",
       "email                            0\n",
       "creation_source                  0\n",
       "last_session_creation_time    3177\n",
       "opted_in_to_mailing_list         0\n",
       "enabled_for_marketing_drip       0\n",
       "invited_by_user_id            5583\n",
       "adopted                          0\n",
       "org_num_members                  0\n",
       "day_of_week                      0\n",
       "dtype: int64"
      ]
     },
     "execution_count": 40,
     "metadata": {},
     "output_type": "execute_result"
    }
   ],
   "source": [
    "# out of 12000 users, 5583 were NOT invited by another user\n",
    "users_df.isna().sum()"
   ]
  },
  {
   "cell_type": "code",
   "execution_count": 41,
   "metadata": {},
   "outputs": [
    {
     "data": {
      "text/plain": [
       "2565"
      ]
     },
     "execution_count": 41,
     "metadata": {},
     "output_type": "execute_result"
    }
   ],
   "source": [
    "# of the 6,417 users who were invited by another user, there are 2565 unique users who did so\n",
    "# meaning lots of users who invite multiple people\n",
    "# does the amount of users you have invited somehow help identify whether you are an adopted user or not?\n",
    "len(users_df.invited_by_user_id.unique())"
   ]
  },
  {
   "cell_type": "code",
   "execution_count": 42,
   "metadata": {},
   "outputs": [
    {
     "data": {
      "text/plain": [
       "10741.0    13\n",
       "2527.0     12\n",
       "2308.0     11\n",
       "1525.0     11\n",
       "11770.0    11\n",
       "10628.0    10\n",
       "7012.0     10\n",
       "4612.0     10\n",
       "4803.0     10\n",
       "1175.0     10\n",
       "Name: invited_by_user_id, dtype: int64"
      ]
     },
     "execution_count": 42,
     "metadata": {},
     "output_type": "execute_result"
    }
   ],
   "source": [
    "test = users_df['invited_by_user_id'].value_counts()\n",
    "test.head(10)"
   ]
  },
  {
   "cell_type": "code",
   "execution_count": 43,
   "metadata": {},
   "outputs": [
    {
     "data": {
      "text/plain": [
       "count    2564.000000\n",
       "mean        2.502730\n",
       "std         1.900262\n",
       "min         1.000000\n",
       "25%         1.000000\n",
       "50%         2.000000\n",
       "75%         3.000000\n",
       "max        13.000000\n",
       "Name: invited_by_user_id, dtype: float64"
      ]
     },
     "execution_count": 43,
     "metadata": {},
     "output_type": "execute_result"
    }
   ],
   "source": [
    "test.describe()"
   ]
  },
  {
   "cell_type": "code",
   "execution_count": 44,
   "metadata": {},
   "outputs": [
    {
     "data": {
      "text/plain": [
       "2564"
      ]
     },
     "execution_count": 44,
     "metadata": {},
     "output_type": "execute_result"
    }
   ],
   "source": [
    "len(test)"
   ]
  },
  {
   "cell_type": "code",
   "execution_count": 45,
   "metadata": {},
   "outputs": [],
   "source": [
    "# constraints due to time but would be interesting to look at the ogranizations that..\n",
    "# ...the users who invite a lot of people are from \n",
    "users_df[\"invited_by_user\"] = np.where(users_df[\"invited_by_user_id\"] >= 0, 1, 0)"
   ]
  },
  {
   "cell_type": "code",
   "execution_count": 46,
   "metadata": {},
   "outputs": [
    {
     "data": {
      "text/plain": [
       "5583"
      ]
     },
     "execution_count": 46,
     "metadata": {},
     "output_type": "execute_result"
    }
   ],
   "source": [
    "# sanity check = are there 5583 users not invited by another user\n",
    "len(users_df.loc[users_df[\"invited_by_user\"] == 0])"
   ]
  },
  {
   "cell_type": "code",
   "execution_count": 47,
   "metadata": {},
   "outputs": [],
   "source": [
    "# dropping invited_by_user_id column\n",
    "users_df = users_df.drop(columns=[\"invited_by_user_id\"])"
   ]
  },
  {
   "cell_type": "code",
   "execution_count": 48,
   "metadata": {},
   "outputs": [
    {
     "data": {
      "text/html": [
       "<div>\n",
       "<style scoped>\n",
       "    .dataframe tbody tr th:only-of-type {\n",
       "        vertical-align: middle;\n",
       "    }\n",
       "\n",
       "    .dataframe tbody tr th {\n",
       "        vertical-align: top;\n",
       "    }\n",
       "\n",
       "    .dataframe thead th {\n",
       "        text-align: right;\n",
       "    }\n",
       "</style>\n",
       "<table border=\"1\" class=\"dataframe\">\n",
       "  <thead>\n",
       "    <tr style=\"text-align: right;\">\n",
       "      <th></th>\n",
       "      <th>object_id</th>\n",
       "      <th>name</th>\n",
       "      <th>email</th>\n",
       "      <th>creation_source</th>\n",
       "      <th>last_session_creation_time</th>\n",
       "      <th>opted_in_to_mailing_list</th>\n",
       "      <th>enabled_for_marketing_drip</th>\n",
       "      <th>adopted</th>\n",
       "      <th>org_num_members</th>\n",
       "      <th>day_of_week</th>\n",
       "      <th>invited_by_user</th>\n",
       "    </tr>\n",
       "  </thead>\n",
       "  <tbody>\n",
       "    <tr>\n",
       "      <th>0</th>\n",
       "      <td>1</td>\n",
       "      <td>Clausen August</td>\n",
       "      <td>yahoo.com</td>\n",
       "      <td>GUEST_INVITE</td>\n",
       "      <td>1.398139e+09</td>\n",
       "      <td>1</td>\n",
       "      <td>0</td>\n",
       "      <td>0</td>\n",
       "      <td>75</td>\n",
       "      <td>1</td>\n",
       "      <td>1</td>\n",
       "    </tr>\n",
       "    <tr>\n",
       "      <th>1</th>\n",
       "      <td>2</td>\n",
       "      <td>Poole Matthew</td>\n",
       "      <td>gustr.com</td>\n",
       "      <td>ORG_INVITE</td>\n",
       "      <td>1.396238e+09</td>\n",
       "      <td>0</td>\n",
       "      <td>0</td>\n",
       "      <td>1</td>\n",
       "      <td>233</td>\n",
       "      <td>0</td>\n",
       "      <td>1</td>\n",
       "    </tr>\n",
       "    <tr>\n",
       "      <th>2</th>\n",
       "      <td>3</td>\n",
       "      <td>Bottrill Mitchell</td>\n",
       "      <td>gustr.com</td>\n",
       "      <td>ORG_INVITE</td>\n",
       "      <td>1.363735e+09</td>\n",
       "      <td>0</td>\n",
       "      <td>0</td>\n",
       "      <td>0</td>\n",
       "      <td>32</td>\n",
       "      <td>1</td>\n",
       "      <td>1</td>\n",
       "    </tr>\n",
       "    <tr>\n",
       "      <th>3</th>\n",
       "      <td>4</td>\n",
       "      <td>Clausen Nicklas</td>\n",
       "      <td>yahoo.com</td>\n",
       "      <td>GUEST_INVITE</td>\n",
       "      <td>1.369210e+09</td>\n",
       "      <td>0</td>\n",
       "      <td>0</td>\n",
       "      <td>0</td>\n",
       "      <td>233</td>\n",
       "      <td>1</td>\n",
       "      <td>1</td>\n",
       "    </tr>\n",
       "    <tr>\n",
       "      <th>4</th>\n",
       "      <td>5</td>\n",
       "      <td>Raw Grace</td>\n",
       "      <td>yahoo.com</td>\n",
       "      <td>GUEST_INVITE</td>\n",
       "      <td>1.358850e+09</td>\n",
       "      <td>0</td>\n",
       "      <td>0</td>\n",
       "      <td>0</td>\n",
       "      <td>16</td>\n",
       "      <td>1</td>\n",
       "      <td>1</td>\n",
       "    </tr>\n",
       "  </tbody>\n",
       "</table>\n",
       "</div>"
      ],
      "text/plain": [
       "   object_id               name      email creation_source  \\\n",
       "0          1     Clausen August  yahoo.com    GUEST_INVITE   \n",
       "1          2      Poole Matthew  gustr.com      ORG_INVITE   \n",
       "2          3  Bottrill Mitchell  gustr.com      ORG_INVITE   \n",
       "3          4    Clausen Nicklas  yahoo.com    GUEST_INVITE   \n",
       "4          5          Raw Grace  yahoo.com    GUEST_INVITE   \n",
       "\n",
       "   last_session_creation_time  opted_in_to_mailing_list  \\\n",
       "0                1.398139e+09                         1   \n",
       "1                1.396238e+09                         0   \n",
       "2                1.363735e+09                         0   \n",
       "3                1.369210e+09                         0   \n",
       "4                1.358850e+09                         0   \n",
       "\n",
       "   enabled_for_marketing_drip  adopted  org_num_members  day_of_week  \\\n",
       "0                           0        0               75            1   \n",
       "1                           0        1              233            0   \n",
       "2                           0        0               32            1   \n",
       "3                           0        0              233            1   \n",
       "4                           0        0               16            1   \n",
       "\n",
       "   invited_by_user  \n",
       "0                1  \n",
       "1                1  \n",
       "2                1  \n",
       "3                1  \n",
       "4                1  "
      ]
     },
     "execution_count": 48,
     "metadata": {},
     "output_type": "execute_result"
    }
   ],
   "source": [
    "users_df.head(5)"
   ]
  },
  {
   "cell_type": "markdown",
   "metadata": {},
   "source": [
    "## E. Dropping Features <a name=\"Dropping\"></a>"
   ]
  },
  {
   "cell_type": "markdown",
   "metadata": {},
   "source": [
    "> Dropping features that are not meaningful: object_id, name, and last_session_creation_time"
   ]
  },
  {
   "cell_type": "code",
   "execution_count": 49,
   "metadata": {},
   "outputs": [],
   "source": [
    "users_df_final = users_df.drop([\"object_id\", \"name\", \"last_session_creation_time\"], axis=1)"
   ]
  },
  {
   "cell_type": "code",
   "execution_count": 50,
   "metadata": {},
   "outputs": [
    {
     "data": {
      "text/html": [
       "<div>\n",
       "<style scoped>\n",
       "    .dataframe tbody tr th:only-of-type {\n",
       "        vertical-align: middle;\n",
       "    }\n",
       "\n",
       "    .dataframe tbody tr th {\n",
       "        vertical-align: top;\n",
       "    }\n",
       "\n",
       "    .dataframe thead th {\n",
       "        text-align: right;\n",
       "    }\n",
       "</style>\n",
       "<table border=\"1\" class=\"dataframe\">\n",
       "  <thead>\n",
       "    <tr style=\"text-align: right;\">\n",
       "      <th></th>\n",
       "      <th>email</th>\n",
       "      <th>creation_source</th>\n",
       "      <th>opted_in_to_mailing_list</th>\n",
       "      <th>enabled_for_marketing_drip</th>\n",
       "      <th>adopted</th>\n",
       "      <th>org_num_members</th>\n",
       "      <th>day_of_week</th>\n",
       "      <th>invited_by_user</th>\n",
       "    </tr>\n",
       "  </thead>\n",
       "  <tbody>\n",
       "    <tr>\n",
       "      <th>0</th>\n",
       "      <td>yahoo.com</td>\n",
       "      <td>GUEST_INVITE</td>\n",
       "      <td>1</td>\n",
       "      <td>0</td>\n",
       "      <td>0</td>\n",
       "      <td>75</td>\n",
       "      <td>1</td>\n",
       "      <td>1</td>\n",
       "    </tr>\n",
       "    <tr>\n",
       "      <th>1</th>\n",
       "      <td>gustr.com</td>\n",
       "      <td>ORG_INVITE</td>\n",
       "      <td>0</td>\n",
       "      <td>0</td>\n",
       "      <td>1</td>\n",
       "      <td>233</td>\n",
       "      <td>0</td>\n",
       "      <td>1</td>\n",
       "    </tr>\n",
       "  </tbody>\n",
       "</table>\n",
       "</div>"
      ],
      "text/plain": [
       "       email creation_source  opted_in_to_mailing_list  \\\n",
       "0  yahoo.com    GUEST_INVITE                         1   \n",
       "1  gustr.com      ORG_INVITE                         0   \n",
       "\n",
       "   enabled_for_marketing_drip  adopted  org_num_members  day_of_week  \\\n",
       "0                           0        0               75            1   \n",
       "1                           0        1              233            0   \n",
       "\n",
       "   invited_by_user  \n",
       "0                1  \n",
       "1                1  "
      ]
     },
     "execution_count": 50,
     "metadata": {},
     "output_type": "execute_result"
    }
   ],
   "source": [
    "# sanity check\n",
    "users_df_final.head(2)"
   ]
  },
  {
   "cell_type": "markdown",
   "metadata": {},
   "source": [
    "## F. Plots <a name=\"Plots\"></a>"
   ]
  },
  {
   "cell_type": "markdown",
   "metadata": {},
   "source": [
    "> I think the most useful plots for getting a feel for which features are associated with higher rates of user adoptions would be those that show total users in each category, and what percent of those total users are adopted. My strategy here is to make some stacked bar charts, with total user count, adopted user count, and then annotations of the percent of total users which adopted users account for. \n",
    "\n",
    "> Looking at the plots, creation_source, email domain, and invited by user show different rates of adoption based on the users onboarding source, email domain, and whether or not they were invited by another user, respectively. This suggests these features have potential to be good predictors of user adoption. In contrast, whether a user opted in to mailing list, is enabled for the marketing drip, or created their account on a weekend or a weekday shows no association with user adoption. Adoption rates are equal within those plots."
   ]
  },
  {
   "cell_type": "markdown",
   "metadata": {},
   "source": [
    "### Dataframe for plotting"
   ]
  },
  {
   "cell_type": "code",
   "execution_count": 51,
   "metadata": {},
   "outputs": [
    {
     "name": "stdout",
     "output_type": "stream",
     "text": [
      "Creation Source Mappings: \n",
      " {0: 'GUEST_INVITE', 1: 'ORG_INVITE', 2: 'PERSONAL_PROJECTS', 3: 'SIGNUP', 4: 'SIGNUP_GOOGLE_AUTH'}\n",
      "Email Domain Mappings: \n",
      " {0: 'cuvox.de', 1: 'gmail.com', 2: 'gustr.com', 3: 'hotmail.com', 4: 'jourrapide.com', 5: 'other', 6: 'yahoo.com'}\n"
     ]
    },
    {
     "data": {
      "text/html": [
       "<div>\n",
       "<style scoped>\n",
       "    .dataframe tbody tr th:only-of-type {\n",
       "        vertical-align: middle;\n",
       "    }\n",
       "\n",
       "    .dataframe tbody tr th {\n",
       "        vertical-align: top;\n",
       "    }\n",
       "\n",
       "    .dataframe thead th {\n",
       "        text-align: right;\n",
       "    }\n",
       "</style>\n",
       "<table border=\"1\" class=\"dataframe\">\n",
       "  <thead>\n",
       "    <tr style=\"text-align: right;\">\n",
       "      <th></th>\n",
       "      <th>email</th>\n",
       "      <th>creation_source</th>\n",
       "      <th>opted_in_to_mailing_list</th>\n",
       "      <th>enabled_for_marketing_drip</th>\n",
       "      <th>adopted</th>\n",
       "      <th>org_num_members</th>\n",
       "      <th>day_of_week</th>\n",
       "      <th>invited_by_user</th>\n",
       "    </tr>\n",
       "  </thead>\n",
       "  <tbody>\n",
       "    <tr>\n",
       "      <th>0</th>\n",
       "      <td>6</td>\n",
       "      <td>0</td>\n",
       "      <td>1</td>\n",
       "      <td>0</td>\n",
       "      <td>0</td>\n",
       "      <td>75</td>\n",
       "      <td>1</td>\n",
       "      <td>1</td>\n",
       "    </tr>\n",
       "    <tr>\n",
       "      <th>1</th>\n",
       "      <td>2</td>\n",
       "      <td>1</td>\n",
       "      <td>0</td>\n",
       "      <td>0</td>\n",
       "      <td>1</td>\n",
       "      <td>233</td>\n",
       "      <td>0</td>\n",
       "      <td>1</td>\n",
       "    </tr>\n",
       "  </tbody>\n",
       "</table>\n",
       "</div>"
      ],
      "text/plain": [
       "   email  creation_source  opted_in_to_mailing_list  \\\n",
       "0      6                0                         1   \n",
       "1      2                1                         0   \n",
       "\n",
       "   enabled_for_marketing_drip  adopted  org_num_members  day_of_week  \\\n",
       "0                           0        0               75            1   \n",
       "1                           0        1              233            0   \n",
       "\n",
       "   invited_by_user  \n",
       "0                1  \n",
       "1                1  "
      ]
     },
     "execution_count": 51,
     "metadata": {},
     "output_type": "execute_result"
    }
   ],
   "source": [
    "# easier to plot in plotly histogram when categorical variable names have numeric values, \n",
    "# so adjusting this\n",
    "\n",
    "# converting creation_source and email to categorical type in order to use cat.codes\n",
    "plotting_df = users_df_final.copy()\n",
    "plotting_df[\"creation_source\"] = plotting_df[\"creation_source\"].astype('category')\n",
    "plotting_df[\"email\"] = plotting_df[\"email\"].astype('category')\n",
    "\n",
    "# mapping codes and categories to reference later\n",
    "creation_dict = dict(enumerate(plotting_df[\"creation_source\"].cat.categories))\n",
    "print(\"Creation Source Mappings: \\n\", creation_dict)\n",
    "\n",
    "# mapping codes and categories to reference later\n",
    "domain_dict = dict(enumerate(plotting_df[\"email\"].cat.categories))\n",
    "print(\"Email Domain Mappings: \\n\", domain_dict)\n",
    "\n",
    "# numeric encoding of categorical variables\n",
    "plotting_df[\"creation_source\"] = plotting_df[\"creation_source\"].cat.codes\n",
    "plotting_df[\"email\"] = plotting_df[\"email\"].cat.codes\n",
    "plotting_df.head(2)"
   ]
  },
  {
   "cell_type": "code",
   "execution_count": 52,
   "metadata": {},
   "outputs": [],
   "source": [
    "# metrics to be graphed and for which to calculate percent adopted\n",
    "metrics = [\"creation_source\", \n",
    "           \"opted_in_to_mailing_list\", \n",
    "           \"enabled_for_marketing_drip\",\n",
    "           \"email\",\n",
    "           \"day_of_week\", \n",
    "           \"invited_by_user\"]\n",
    "\n",
    "# created dataframe of only adopted users\n",
    "adopted_data = plotting_df.loc[plotting_df[\"adopted\"] == 1]"
   ]
  },
  {
   "cell_type": "code",
   "execution_count": 53,
   "metadata": {},
   "outputs": [],
   "source": [
    "total_adopted_list = []\n",
    "total_counts_list = []\n",
    "\n",
    "for metric in metrics:\n",
    "    # finding counts of all adopted per category of each metric\n",
    "    a_total = plotting_df.groupby([metric, 'adopted']).agg({'opted_in_to_mailing_list': 'count'})\n",
    "    adopted_count_df = a_total.reset_index('adopted')\n",
    "    adopted_count_df = adopted_count_df[adopted_count_df.adopted != 0]\n",
    "    adopted_counts_list = adopted_count_df['opted_in_to_mailing_list'].tolist()\n",
    "    total_adopted_list.extend(adopted_counts_list)\n",
    "    \n",
    "    # finding counts of total users per category of each metric \n",
    "    total_counts = plotting_df[metric].value_counts().sort_index()\n",
    "    counts_list = total_counts.tolist()\n",
    "    total_counts_list.extend(counts_list)"
   ]
  },
  {
   "cell_type": "code",
   "execution_count": 54,
   "metadata": {},
   "outputs": [],
   "source": [
    "# calculating percent of adopted users for each category within each metric\n",
    "percent_labels = [x / y * 100 for x, y in zip(total_adopted_list, total_counts_list)]\n",
    "percent_labels = ['%.0f' % x for x in percent_labels]\n",
    "percent_labels = [x + '%' for x in percent_labels]"
   ]
  },
  {
   "cell_type": "code",
   "execution_count": 55,
   "metadata": {},
   "outputs": [
    {
     "name": "stdout",
     "output_type": "stream",
     "text": [
      "[339, 524, 154, 285, 218, 1128, 392, 1283, 237, 129, 506, 137, 190, 157, 152, 249, 651, 869, 657, 863]\n",
      "[2163, 4254, 2111, 2087, 1385, 9006, 2994, 10208, 1792, 1202, 3562, 1179, 1165, 1259, 1186, 2447, 5140, 6860, 5583, 6417]\n",
      "['16%', '12%', '7%', '14%', '16%', '13%', '13%', '13%', '13%', '11%', '14%', '12%', '16%', '12%', '13%', '10%', '13%', '13%', '12%', '13%']\n"
     ]
    }
   ],
   "source": [
    "# sanity checks\n",
    "print(total_adopted_list)\n",
    "print(total_counts_list)\n",
    "print(percent_labels)"
   ]
  },
  {
   "cell_type": "markdown",
   "metadata": {},
   "source": [
    "### Creation_Source Plot"
   ]
  },
  {
   "cell_type": "code",
   "execution_count": 56,
   "metadata": {},
   "outputs": [
    {
     "name": "stderr",
     "output_type": "stream",
     "text": [
      "/Users/daniellaraz/anaconda3/lib/python3.6/site-packages/plotly/graph_objs/_deprecations.py:426: DeprecationWarning:\n",
      "\n",
      "plotly.graph_objs.Marker is deprecated.\n",
      "Please replace it with one of the following more specific types\n",
      "  - plotly.graph_objs.scatter.Marker\n",
      "  - plotly.graph_objs.histogram.selected.Marker\n",
      "  - etc.\n",
      "\n",
      "\n"
     ]
    },
    {
     "data": {
      "text/html": [
       "<iframe id=\"igraph\" scrolling=\"no\" style=\"border:none;\" seamless=\"seamless\" src=\"https://plot.ly/~drraz/18.embed\" height=\"550px\" width=\"650px\"></iframe>"
      ],
      "text/plain": [
       "<plotly.tools.PlotlyDisplay object>"
      ]
     },
     "execution_count": 56,
     "metadata": {},
     "output_type": "execute_result"
    }
   ],
   "source": [
    "# colors dictionary, adopted = blue, total user count = orange\n",
    "colors = {'A': 'rgb(31, 119, 180)', \n",
    "          'T': 'rgb(255, 127, 14)',}  \n",
    "\n",
    "# labels and tick vals\n",
    "creation_labels = [\"Guest Invite\", \n",
    "                   \"Organization Invite\", \n",
    "                   \"Personal Projects\", \n",
    "                   \"Signup\", \n",
    "                   \"Signup Google Auth\"]\n",
    "creation_tickvals = [0, 1, 2, 3, 4]\n",
    "\n",
    "# creating trace of stats for adopted users only\n",
    "adopted_users = Histogram(\n",
    "    x = adopted_data[\"creation_source\"].values,\n",
    "    opacity = 0.75,\n",
    "    marker = Marker(color = colors['A']),\n",
    "    name = \"Adopted Users\",\n",
    "    showlegend = True, \n",
    ")\n",
    "\n",
    "# creating trace of stats for total users\n",
    "total_users = Histogram(\n",
    "    x = plotting_df[\"creation_source\"].values,\n",
    "    opacity = 0.75,\n",
    "    marker = Marker(color = colors['T']),\n",
    "    name = \"Total Users\",\n",
    "    showlegend = True,\n",
    ")\n",
    "\n",
    "# creation_source annotations of percent adopted\n",
    "annotation_arr = []\n",
    "metric_count = 0\n",
    "for percent, count in zip(percent_labels[0:5], total_adopted_list[0:5]):\n",
    "    annotation_arr.append(dict(x=metric_count, \n",
    "                               y=count,\n",
    "                               text=percent,\n",
    "                               showarrow=True,\n",
    "                               arrowhead=7,\n",
    "                               ax=0,\n",
    "                               ay=-30))\n",
    "    metric_count = metric_count + 1\n",
    "\n",
    "data = [adopted_users, total_users]\n",
    "layout = go.Layout(barmode='stack', \n",
    "                   height = 550, \n",
    "                   width = 650, \n",
    "                   title = \"Percent Adopted Users per Creation Source\",\n",
    "                   bargap = 0.2, \n",
    "                    xaxis=go.layout.XAxis(\n",
    "                        ticktext=creation_labels,\n",
    "                        tickvals=creation_tickvals),\n",
    "                  annotations = annotation_arr)\n",
    "    \n",
    "fig = go.Figure(data=data, layout=layout)\n",
    "\n",
    "py.iplot(fig, filename='Creation Source Histogram')"
   ]
  },
  {
   "cell_type": "markdown",
   "metadata": {},
   "source": [
    "### Opted into Mailing List Plot"
   ]
  },
  {
   "cell_type": "code",
   "execution_count": 57,
   "metadata": {},
   "outputs": [
    {
     "name": "stderr",
     "output_type": "stream",
     "text": [
      "/Users/daniellaraz/anaconda3/lib/python3.6/site-packages/plotly/graph_objs/_deprecations.py:426: DeprecationWarning:\n",
      "\n",
      "plotly.graph_objs.Marker is deprecated.\n",
      "Please replace it with one of the following more specific types\n",
      "  - plotly.graph_objs.scatter.Marker\n",
      "  - plotly.graph_objs.histogram.selected.Marker\n",
      "  - etc.\n",
      "\n",
      "\n"
     ]
    },
    {
     "data": {
      "text/html": [
       "<iframe id=\"igraph\" scrolling=\"no\" style=\"border:none;\" seamless=\"seamless\" src=\"https://plot.ly/~drraz/20.embed\" height=\"400px\" width=\"500px\"></iframe>"
      ],
      "text/plain": [
       "<plotly.tools.PlotlyDisplay object>"
      ]
     },
     "execution_count": 57,
     "metadata": {},
     "output_type": "execute_result"
    }
   ],
   "source": [
    "# labels and tick vals\n",
    "yes_no_labels = [\"No\", \"Yes\"]\n",
    "yes_no_vals = [0, 1]\n",
    "\n",
    "# creating trace of stats for adopted users only\n",
    "adopted_users = Histogram(\n",
    "    x = adopted_data[\"opted_in_to_mailing_list\"].values,\n",
    "    opacity = 0.75,\n",
    "    marker = Marker(color = colors['A']),\n",
    "    name = \"Adopted Users\",\n",
    "    showlegend = True, \n",
    ")\n",
    "\n",
    "# creating trace of stats for total users\n",
    "total_users = Histogram(\n",
    "    x = plotting_df[\"opted_in_to_mailing_list\"].values,\n",
    "    opacity = 0.75,\n",
    "    marker = Marker(color = colors['T']),\n",
    "    name = \"Total Users\",\n",
    "    showlegend = True,\n",
    ")\n",
    "\n",
    "# creation_source annotations of percent adopted\n",
    "annotation_arr = []\n",
    "metric_count = 0\n",
    "for percent, count in zip(percent_labels[5:7], total_adopted_list[5:7]):\n",
    "    annotation_arr.append(dict(x=metric_count, \n",
    "                               y=count,\n",
    "                               text=percent,\n",
    "                               showarrow=True,\n",
    "                               arrowhead=7,\n",
    "                               ax=0,\n",
    "                               ay=-30))\n",
    "    metric_count = metric_count + 1\n",
    "\n",
    "data = [adopted_users, total_users]\n",
    "layout = go.Layout(barmode='stack', \n",
    "                   height = 400, \n",
    "                   width = 500, \n",
    "                   title = \"Percent Adopted Users Opting in or out of Mailing List\",\n",
    "                   bargap = 0.2, \n",
    "                   xaxis=go.layout.XAxis(\n",
    "                       ticktext=yes_no_labels,\n",
    "                       tickvals=yes_no_vals),\n",
    "                  annotations = annotation_arr)\n",
    "    \n",
    "fig = go.Figure(data=data, layout=layout)\n",
    "\n",
    "py.iplot(fig, filename='Mailing List Histogram')"
   ]
  },
  {
   "cell_type": "markdown",
   "metadata": {},
   "source": [
    "### Enabled for Marketing Drip Plot"
   ]
  },
  {
   "cell_type": "code",
   "execution_count": 58,
   "metadata": {},
   "outputs": [
    {
     "name": "stderr",
     "output_type": "stream",
     "text": [
      "/Users/daniellaraz/anaconda3/lib/python3.6/site-packages/plotly/graph_objs/_deprecations.py:426: DeprecationWarning:\n",
      "\n",
      "plotly.graph_objs.Marker is deprecated.\n",
      "Please replace it with one of the following more specific types\n",
      "  - plotly.graph_objs.scatter.Marker\n",
      "  - plotly.graph_objs.histogram.selected.Marker\n",
      "  - etc.\n",
      "\n",
      "\n"
     ]
    },
    {
     "data": {
      "text/html": [
       "<iframe id=\"igraph\" scrolling=\"no\" style=\"border:none;\" seamless=\"seamless\" src=\"https://plot.ly/~drraz/12.embed\" height=\"400px\" width=\"550px\"></iframe>"
      ],
      "text/plain": [
       "<plotly.tools.PlotlyDisplay object>"
      ]
     },
     "execution_count": 58,
     "metadata": {},
     "output_type": "execute_result"
    }
   ],
   "source": [
    "# creating trace of stats for adopted users only\n",
    "adopted_users = Histogram(\n",
    "    x = adopted_data[\"enabled_for_marketing_drip\"].values,\n",
    "    opacity = 0.75,\n",
    "    marker = Marker(color = colors['A']),\n",
    "    name = \"Adopted Users\",\n",
    "    showlegend = True, \n",
    ")\n",
    "\n",
    "# creating trace of stats for total users\n",
    "total_users = Histogram(\n",
    "    x = plotting_df[\"enabled_for_marketing_drip\"].values,\n",
    "    opacity = 0.75,\n",
    "    marker = Marker(color = colors['T']),\n",
    "    name = \"Total Users\",\n",
    "    showlegend = True,\n",
    ")\n",
    "\n",
    "# enabled for marketing drip annotations of percent adopted\n",
    "annotation_arr = []\n",
    "metric_count = 0\n",
    "for percent, count in zip(percent_labels[7:9], total_adopted_list[7:9]):\n",
    "    annotation_arr.append(dict(x=metric_count, \n",
    "                               y=count,\n",
    "                               text=percent,\n",
    "                               showarrow=True,\n",
    "                               arrowhead=7,\n",
    "                               ax=0,\n",
    "                               ay=-25))\n",
    "    metric_count = metric_count + 1\n",
    "\n",
    "data = [adopted_users, total_users]\n",
    "layout = go.Layout(barmode='stack', \n",
    "                   height = 400, \n",
    "                   width = 550, \n",
    "                   title = \"Percent Adopted Users: Enabled or Disabled Marketing Drip\",\n",
    "                   bargap = 0.2, \n",
    "                   xaxis=go.layout.XAxis(\n",
    "                       ticktext=yes_no_labels,\n",
    "                       tickvals=yes_no_vals),\n",
    "                  annotations = annotation_arr)\n",
    "    \n",
    "fig = go.Figure(data=data, layout=layout)\n",
    "\n",
    "py.iplot(fig, filename='Marketing Drip Histogram')"
   ]
  },
  {
   "cell_type": "markdown",
   "metadata": {},
   "source": [
    "### Email Domain Plot"
   ]
  },
  {
   "cell_type": "code",
   "execution_count": 59,
   "metadata": {},
   "outputs": [
    {
     "name": "stderr",
     "output_type": "stream",
     "text": [
      "/Users/daniellaraz/anaconda3/lib/python3.6/site-packages/plotly/graph_objs/_deprecations.py:426: DeprecationWarning:\n",
      "\n",
      "plotly.graph_objs.Marker is deprecated.\n",
      "Please replace it with one of the following more specific types\n",
      "  - plotly.graph_objs.scatter.Marker\n",
      "  - plotly.graph_objs.histogram.selected.Marker\n",
      "  - etc.\n",
      "\n",
      "\n"
     ]
    },
    {
     "data": {
      "text/html": [
       "<iframe id=\"igraph\" scrolling=\"no\" style=\"border:none;\" seamless=\"seamless\" src=\"https://plot.ly/~drraz/22.embed\" height=\"500px\" width=\"600px\"></iframe>"
      ],
      "text/plain": [
       "<plotly.tools.PlotlyDisplay object>"
      ]
     },
     "execution_count": 59,
     "metadata": {},
     "output_type": "execute_result"
    }
   ],
   "source": [
    "# colors dictionary, adopted = blue, total user count = orange\n",
    "colors = {'A': 'rgb(31, 119, 180)', \n",
    "          'T': 'rgb(255, 127, 14)',}  \n",
    "\n",
    "# labels and tick vals\n",
    "creation_labels = [\"cuvox.de\", \"gmail.com\", \"gustr.com\", \"hotmail.com\", \"jourrapide.com\", \"yahoo.com\", \"other\"]\n",
    "creation_tickvals = [0, 1, 2, 3, 4, 5, 6]\n",
    "\n",
    "# creating trace of stats for adopted users only\n",
    "adopted_users = Histogram(\n",
    "    x = adopted_data[\"email\"].values,\n",
    "    opacity = 0.75,\n",
    "    marker = Marker(color = colors['A']),\n",
    "    name = \"Adopted Users\",\n",
    "    showlegend = True, \n",
    ")\n",
    "\n",
    "# creating trace of stats for total users\n",
    "total_users = Histogram(\n",
    "    x = plotting_df[\"email\"].values,\n",
    "    opacity = 0.75,\n",
    "    marker = Marker(color = colors['T']),\n",
    "    name = \"Total Users\",\n",
    "    showlegend = True,\n",
    ")\n",
    "\n",
    "# creation_source annotations of percent adopted\n",
    "annotation_arr = []\n",
    "metric_count = 0\n",
    "for percent, count in zip(percent_labels[9:16], total_adopted_list[9:16]):\n",
    "    annotation_arr.append(dict(x=metric_count, \n",
    "                               y=count,\n",
    "                               text=percent,\n",
    "                               showarrow=True,\n",
    "                               arrowhead=7,\n",
    "                               ax=0,\n",
    "                               ay=-30))\n",
    "    metric_count = metric_count + 1\n",
    "\n",
    "data = [adopted_users, total_users]\n",
    "layout = go.Layout(barmode='stack', \n",
    "                   height = 500, \n",
    "                   width = 600, \n",
    "                   title = \"Percent Adopted Users per Email Domain\",\n",
    "                   bargap = 0.2, \n",
    "                   xaxis=go.layout.XAxis(\n",
    "                       ticktext=creation_labels,\n",
    "                       tickvals=creation_tickvals),\n",
    "                  annotations = annotation_arr)\n",
    "    \n",
    "fig = go.Figure(data=data, layout=layout)\n",
    "\n",
    "py.iplot(fig, filename='Email Domain Histogram')"
   ]
  },
  {
   "cell_type": "markdown",
   "metadata": {},
   "source": [
    "### Weekend vs. Weekday Plot"
   ]
  },
  {
   "cell_type": "code",
   "execution_count": 60,
   "metadata": {},
   "outputs": [
    {
     "name": "stderr",
     "output_type": "stream",
     "text": [
      "/Users/daniellaraz/anaconda3/lib/python3.6/site-packages/plotly/graph_objs/_deprecations.py:426: DeprecationWarning:\n",
      "\n",
      "plotly.graph_objs.Marker is deprecated.\n",
      "Please replace it with one of the following more specific types\n",
      "  - plotly.graph_objs.scatter.Marker\n",
      "  - plotly.graph_objs.histogram.selected.Marker\n",
      "  - etc.\n",
      "\n",
      "\n"
     ]
    },
    {
     "data": {
      "text/html": [
       "<iframe id=\"igraph\" scrolling=\"no\" style=\"border:none;\" seamless=\"seamless\" src=\"https://plot.ly/~drraz/14.embed\" height=\"400px\" width=\"500px\"></iframe>"
      ],
      "text/plain": [
       "<plotly.tools.PlotlyDisplay object>"
      ]
     },
     "execution_count": 60,
     "metadata": {},
     "output_type": "execute_result"
    }
   ],
   "source": [
    "# labels and tick vals\n",
    "day_labels = [\"Weekend\", \"Weekday\"]\n",
    "day_vals = [0, 1]\n",
    "\n",
    "# creating trace of stats for adopted users only\n",
    "adopted_users = Histogram(\n",
    "    x = adopted_data[\"day_of_week\"].values,\n",
    "    opacity = 0.75,\n",
    "    marker = Marker(color = colors['A']),\n",
    "    name = \"Adopted Users\",\n",
    "    showlegend = True, \n",
    ")\n",
    "\n",
    "# creating trace of stats for total users\n",
    "total_users = Histogram(\n",
    "    x = plotting_df[\"day_of_week\"].values,\n",
    "    opacity = 0.75,\n",
    "    marker = Marker(color = colors['T']),\n",
    "    name = \"Total Users\",\n",
    "    showlegend = True,\n",
    ")\n",
    "\n",
    "# day of week annotations of percent adopted\n",
    "annotation_arr = []\n",
    "metric_count = 0\n",
    "for percent, count in zip(percent_labels[16:18], total_adopted_list[16:18]):\n",
    "    annotation_arr.append(dict(x=metric_count, \n",
    "                               y=count,\n",
    "                               text=percent,\n",
    "                               showarrow=True,\n",
    "                               arrowhead=7,\n",
    "                               ax=0,\n",
    "                               ay=-25))\n",
    "    metric_count = metric_count + 1\n",
    "\n",
    "data = [adopted_users, total_users]\n",
    "layout = go.Layout(barmode='stack', \n",
    "                   height = 400, \n",
    "                   width = 500, \n",
    "                   title = \"Percent Adopted Users: Weekend vs. Weekday\",\n",
    "                   bargap = 0.2, \n",
    "                   xaxis=go.layout.XAxis(\n",
    "                       ticktext=day_labels,\n",
    "                       tickvals=day_vals),\n",
    "                  annotations = annotation_arr)\n",
    "    \n",
    "fig = go.Figure(data=data, layout=layout)\n",
    "\n",
    "py.iplot(fig, filename='Day of Week Histogram')"
   ]
  },
  {
   "cell_type": "markdown",
   "metadata": {},
   "source": [
    "### Invited by User Plot"
   ]
  },
  {
   "cell_type": "code",
   "execution_count": 61,
   "metadata": {},
   "outputs": [
    {
     "name": "stderr",
     "output_type": "stream",
     "text": [
      "/Users/daniellaraz/anaconda3/lib/python3.6/site-packages/plotly/graph_objs/_deprecations.py:426: DeprecationWarning:\n",
      "\n",
      "plotly.graph_objs.Marker is deprecated.\n",
      "Please replace it with one of the following more specific types\n",
      "  - plotly.graph_objs.scatter.Marker\n",
      "  - plotly.graph_objs.histogram.selected.Marker\n",
      "  - etc.\n",
      "\n",
      "\n"
     ]
    },
    {
     "data": {
      "text/html": [
       "<iframe id=\"igraph\" scrolling=\"no\" style=\"border:none;\" seamless=\"seamless\" src=\"https://plot.ly/~drraz/16.embed\" height=\"400px\" width=\"500px\"></iframe>"
      ],
      "text/plain": [
       "<plotly.tools.PlotlyDisplay object>"
      ]
     },
     "execution_count": 61,
     "metadata": {},
     "output_type": "execute_result"
    }
   ],
   "source": [
    "# creating trace of stats for adopted users only\n",
    "adopted_users = Histogram(\n",
    "    x = adopted_data[\"invited_by_user\"].values,\n",
    "    opacity = 0.75,\n",
    "    marker = Marker(color = colors['A']),\n",
    "    name = \"Adopted Users\",\n",
    "    showlegend = True, \n",
    ")\n",
    "\n",
    "# creating trace of stats for total users\n",
    "total_users = Histogram(\n",
    "    x = plotting_df[\"invited_by_user\"].values,\n",
    "    opacity = 0.75,\n",
    "    marker = Marker(color = colors['T']),\n",
    "    name = \"Total Users\",\n",
    "    showlegend = True,\n",
    ")\n",
    "\n",
    "# enabled for marketing drip annotations of percent adopted\n",
    "annotation_arr = []\n",
    "metric_count = 0\n",
    "for percent, count in zip(percent_labels[18:20], total_adopted_list[18:20]):\n",
    "    annotation_arr.append(dict(x=metric_count, \n",
    "                               y=count,\n",
    "                               text=percent,\n",
    "                               showarrow=True,\n",
    "                               arrowhead=7,\n",
    "                               ax=0,\n",
    "                               ay=-25))\n",
    "    metric_count = metric_count + 1\n",
    "\n",
    "data = [adopted_users, total_users]\n",
    "layout = go.Layout(barmode='stack', \n",
    "                   height = 400, \n",
    "                   width = 500, \n",
    "                   title = \"Percent Adopted Users: Invited by User\",\n",
    "                   bargap = 0.2, \n",
    "                   xaxis=go.layout.XAxis(\n",
    "                       ticktext=yes_no_labels,\n",
    "                       tickvals=yes_no_vals),\n",
    "                  annotations = annotation_arr)\n",
    "    \n",
    "fig = go.Figure(data=data, layout=layout)\n",
    "\n",
    "py.iplot(fig, filename='Invited by User Histogram')"
   ]
  },
  {
   "cell_type": "markdown",
   "metadata": {},
   "source": [
    "### Organization Size Plots"
   ]
  },
  {
   "cell_type": "code",
   "execution_count": 62,
   "metadata": {},
   "outputs": [
    {
     "name": "stderr",
     "output_type": "stream",
     "text": [
      "/Users/daniellaraz/anaconda3/lib/python3.6/site-packages/plotly/graph_objs/_deprecations.py:426: DeprecationWarning:\n",
      "\n",
      "plotly.graph_objs.Marker is deprecated.\n",
      "Please replace it with one of the following more specific types\n",
      "  - plotly.graph_objs.scatter.Marker\n",
      "  - plotly.graph_objs.histogram.selected.Marker\n",
      "  - etc.\n",
      "\n",
      "\n"
     ]
    },
    {
     "data": {
      "text/html": [
       "<iframe id=\"igraph\" scrolling=\"no\" style=\"border:none;\" seamless=\"seamless\" src=\"https://plot.ly/~drraz/24.embed\" height=\"500px\" width=\"800px\"></iframe>"
      ],
      "text/plain": [
       "<plotly.tools.PlotlyDisplay object>"
      ]
     },
     "execution_count": 62,
     "metadata": {},
     "output_type": "execute_result"
    }
   ],
   "source": [
    " adopted_users = Histogram(\n",
    "     x = adopted_data[\"org_num_members\"].values,\n",
    "     opacity = 0.75,\n",
    "     marker = Marker(color = colors['A']),\n",
    "     name = \"Adopted Users\",\n",
    "     showlegend = True, \n",
    " )\n",
    "total_users = Histogram(\n",
    "     x = plotting_df[\"org_num_members\"].values,\n",
    "     opacity = 0.75,\n",
    "     marker = Marker(color = colors['T']),\n",
    "     name = \"Total Users\",\n",
    "     showlegend = True,\n",
    " )\n",
    "\n",
    "data = [adopted_users, total_users]\n",
    "\n",
    "\n",
    "\n",
    "layout = go.Layout(barmode='stack', \n",
    "                   height = 500, \n",
    "                   width = 800, \n",
    "                   title = \"Total Users vs. Adopted Users by Organization Size\")\n",
    "\n",
    "fig = go.Figure(data=data, layout=layout)\n",
    "\n",
    "py.iplot(fig, filename='Organization Size Histogram')"
   ]
  },
  {
   "cell_type": "markdown",
   "metadata": {},
   "source": [
    "## G. Dummy Variables <a name=\"Dummy\"></a>"
   ]
  },
  {
   "cell_type": "code",
   "execution_count": 63,
   "metadata": {},
   "outputs": [
    {
     "data": {
      "text/html": [
       "<div>\n",
       "<style scoped>\n",
       "    .dataframe tbody tr th:only-of-type {\n",
       "        vertical-align: middle;\n",
       "    }\n",
       "\n",
       "    .dataframe tbody tr th {\n",
       "        vertical-align: top;\n",
       "    }\n",
       "\n",
       "    .dataframe thead th {\n",
       "        text-align: right;\n",
       "    }\n",
       "</style>\n",
       "<table border=\"1\" class=\"dataframe\">\n",
       "  <thead>\n",
       "    <tr style=\"text-align: right;\">\n",
       "      <th></th>\n",
       "      <th>opted_in_to_mailing_list</th>\n",
       "      <th>enabled_for_marketing_drip</th>\n",
       "      <th>adopted</th>\n",
       "      <th>org_num_members</th>\n",
       "      <th>day_of_week</th>\n",
       "      <th>invited_by_user</th>\n",
       "      <th>creation__GUEST_INVITE</th>\n",
       "      <th>creation__ORG_INVITE</th>\n",
       "      <th>creation__PERSONAL_PROJECTS</th>\n",
       "      <th>creation__SIGNUP</th>\n",
       "      <th>creation__SIGNUP_GOOGLE_AUTH</th>\n",
       "      <th>email__cuvox.de</th>\n",
       "      <th>email__gmail.com</th>\n",
       "      <th>email__gustr.com</th>\n",
       "      <th>email__hotmail.com</th>\n",
       "      <th>email__jourrapide.com</th>\n",
       "      <th>email__other</th>\n",
       "      <th>email__yahoo.com</th>\n",
       "    </tr>\n",
       "  </thead>\n",
       "  <tbody>\n",
       "    <tr>\n",
       "      <th>0</th>\n",
       "      <td>1</td>\n",
       "      <td>0</td>\n",
       "      <td>0</td>\n",
       "      <td>75</td>\n",
       "      <td>1</td>\n",
       "      <td>1</td>\n",
       "      <td>1</td>\n",
       "      <td>0</td>\n",
       "      <td>0</td>\n",
       "      <td>0</td>\n",
       "      <td>0</td>\n",
       "      <td>0</td>\n",
       "      <td>0</td>\n",
       "      <td>0</td>\n",
       "      <td>0</td>\n",
       "      <td>0</td>\n",
       "      <td>0</td>\n",
       "      <td>1</td>\n",
       "    </tr>\n",
       "    <tr>\n",
       "      <th>1</th>\n",
       "      <td>0</td>\n",
       "      <td>0</td>\n",
       "      <td>1</td>\n",
       "      <td>233</td>\n",
       "      <td>0</td>\n",
       "      <td>1</td>\n",
       "      <td>0</td>\n",
       "      <td>1</td>\n",
       "      <td>0</td>\n",
       "      <td>0</td>\n",
       "      <td>0</td>\n",
       "      <td>0</td>\n",
       "      <td>0</td>\n",
       "      <td>1</td>\n",
       "      <td>0</td>\n",
       "      <td>0</td>\n",
       "      <td>0</td>\n",
       "      <td>0</td>\n",
       "    </tr>\n",
       "    <tr>\n",
       "      <th>2</th>\n",
       "      <td>0</td>\n",
       "      <td>0</td>\n",
       "      <td>0</td>\n",
       "      <td>32</td>\n",
       "      <td>1</td>\n",
       "      <td>1</td>\n",
       "      <td>0</td>\n",
       "      <td>1</td>\n",
       "      <td>0</td>\n",
       "      <td>0</td>\n",
       "      <td>0</td>\n",
       "      <td>0</td>\n",
       "      <td>0</td>\n",
       "      <td>1</td>\n",
       "      <td>0</td>\n",
       "      <td>0</td>\n",
       "      <td>0</td>\n",
       "      <td>0</td>\n",
       "    </tr>\n",
       "    <tr>\n",
       "      <th>3</th>\n",
       "      <td>0</td>\n",
       "      <td>0</td>\n",
       "      <td>0</td>\n",
       "      <td>233</td>\n",
       "      <td>1</td>\n",
       "      <td>1</td>\n",
       "      <td>1</td>\n",
       "      <td>0</td>\n",
       "      <td>0</td>\n",
       "      <td>0</td>\n",
       "      <td>0</td>\n",
       "      <td>0</td>\n",
       "      <td>0</td>\n",
       "      <td>0</td>\n",
       "      <td>0</td>\n",
       "      <td>0</td>\n",
       "      <td>0</td>\n",
       "      <td>1</td>\n",
       "    </tr>\n",
       "    <tr>\n",
       "      <th>4</th>\n",
       "      <td>0</td>\n",
       "      <td>0</td>\n",
       "      <td>0</td>\n",
       "      <td>16</td>\n",
       "      <td>1</td>\n",
       "      <td>1</td>\n",
       "      <td>1</td>\n",
       "      <td>0</td>\n",
       "      <td>0</td>\n",
       "      <td>0</td>\n",
       "      <td>0</td>\n",
       "      <td>0</td>\n",
       "      <td>0</td>\n",
       "      <td>0</td>\n",
       "      <td>0</td>\n",
       "      <td>0</td>\n",
       "      <td>0</td>\n",
       "      <td>1</td>\n",
       "    </tr>\n",
       "  </tbody>\n",
       "</table>\n",
       "</div>"
      ],
      "text/plain": [
       "   opted_in_to_mailing_list  enabled_for_marketing_drip  adopted  \\\n",
       "0                         1                           0        0   \n",
       "1                         0                           0        1   \n",
       "2                         0                           0        0   \n",
       "3                         0                           0        0   \n",
       "4                         0                           0        0   \n",
       "\n",
       "   org_num_members  day_of_week  invited_by_user  creation__GUEST_INVITE  \\\n",
       "0               75            1                1                       1   \n",
       "1              233            0                1                       0   \n",
       "2               32            1                1                       0   \n",
       "3              233            1                1                       1   \n",
       "4               16            1                1                       1   \n",
       "\n",
       "   creation__ORG_INVITE  creation__PERSONAL_PROJECTS  creation__SIGNUP  \\\n",
       "0                     0                            0                 0   \n",
       "1                     1                            0                 0   \n",
       "2                     1                            0                 0   \n",
       "3                     0                            0                 0   \n",
       "4                     0                            0                 0   \n",
       "\n",
       "   creation__SIGNUP_GOOGLE_AUTH  email__cuvox.de  email__gmail.com  \\\n",
       "0                             0                0                 0   \n",
       "1                             0                0                 0   \n",
       "2                             0                0                 0   \n",
       "3                             0                0                 0   \n",
       "4                             0                0                 0   \n",
       "\n",
       "   email__gustr.com  email__hotmail.com  email__jourrapide.com  email__other  \\\n",
       "0                 0                   0                      0             0   \n",
       "1                 1                   0                      0             0   \n",
       "2                 1                   0                      0             0   \n",
       "3                 0                   0                      0             0   \n",
       "4                 0                   0                      0             0   \n",
       "\n",
       "   email__yahoo.com  \n",
       "0                 1  \n",
       "1                 0  \n",
       "2                 0  \n",
       "3                 1  \n",
       "4                 1  "
      ]
     },
     "execution_count": 63,
     "metadata": {},
     "output_type": "execute_result"
    }
   ],
   "source": [
    "# creating dummy variables for creation_source and emails\n",
    "users_df_dummies = pd.get_dummies(users_df_final, \n",
    "                                  columns=[\"creation_source\", \"email\"], \n",
    "                                  drop_first=False, \n",
    "                                  prefix = [\"creation_\", \"email_\"])\n",
    "users_df_dummies.head(5)"
   ]
  },
  {
   "cell_type": "markdown",
   "metadata": {},
   "source": [
    "## H. Correlation Checks <a name=\"Correlation\"></a>"
   ]
  },
  {
   "cell_type": "markdown",
   "metadata": {},
   "source": [
    "> There are four pairs of features that seem relatively correlated. enabled_for_marketing_drip and opted_in_to_mailing_list, creation_ORG_INVITE and invited_by_user, creation_GUEST_INVITE and invited_by_user, as well as email_gmail.com and and creation_SIGNUP_GOOGLE_AUTH. I'll examine these more closesly in crosstabs."
   ]
  },
  {
   "cell_type": "code",
   "execution_count": 64,
   "metadata": {},
   "outputs": [],
   "source": [
    "corr_df = users_df_dummies.corr()"
   ]
  },
  {
   "cell_type": "code",
   "execution_count": 65,
   "metadata": {},
   "outputs": [
    {
     "data": {
      "text/plain": [
       "<matplotlib.axes._subplots.AxesSubplot at 0x1c1d8c0278>"
      ]
     },
     "execution_count": 65,
     "metadata": {},
     "output_type": "execute_result"
    },
    {
     "data": {
      "image/png": "[encoded data removed]",
      "text/plain": [
       "<Figure size 432x288 with 2 Axes>"
      ]
     },
     "metadata": {
      "needs_background": "light"
     },
     "output_type": "display_data"
    }
   ],
   "source": [
    "sns.heatmap(corr_df)"
   ]
  },
  {
   "cell_type": "markdown",
   "metadata": {},
   "source": [
    "## I. Crosstab of Correlated Features<a name=\"Cross\"></a>"
   ]
  },
  {
   "cell_type": "markdown",
   "metadata": {},
   "source": [
    "> Three important takeaways, that make intuitive sense as well, from the cross tabulation of correlated features:\n",
    "\n",
    "> All users who signed up for the product using Google authorization have gmail.com as their email domain. There are 0 users who signed up with Google and do not have gmail.com as their email domain. \n",
    "\n",
    "> All users whose creation source for the product was an organization invite were invited by a user.  There are 0 users who signed up for the product using an organization invite who were not invited by a user.\n",
    "\n",
    "> All users whose creation source for the product was a guest invite were invited by a user. There are 0 users who signed up for the product using a guest invite who were not invited by another user.\n",
    "\n",
    "> To prevent separation in logistic model and issues of multicollinearity I am retaining the following features from each pair: invited_by_user and email_gmail.com. email_gmail.com and invited_by_user are features that reflect larger trends - 1) using Google service (gmail), and 2) being invited to create an account by some \"inside\" source, either an organization via a user, or a guest invite via a user."
   ]
  },
  {
   "cell_type": "code",
   "execution_count": 66,
   "metadata": {},
   "outputs": [],
   "source": [
    "# making list of lists, feature pairs to check crosstab\n",
    "cross_tab_features = [[\"creation__SIGNUP_GOOGLE_AUTH\", \"email__gmail.com\"],\n",
    "                      [\"creation__ORG_INVITE\", \"invited_by_user\"], \n",
    "                      [\"creation__GUEST_INVITE\", \"invited_by_user\"],\n",
    "                      [\"enabled_for_marketing_drip\", \"opted_in_to_mailing_list\"]]"
   ]
  },
  {
   "cell_type": "code",
   "execution_count": 67,
   "metadata": {},
   "outputs": [
    {
     "name": "stdout",
     "output_type": "stream",
     "text": [
      "email__gmail.com                 0     1\n",
      "creation__SIGNUP_GOOGLE_AUTH            \n",
      "0                             8438  2177\n",
      "1                                0  1385\n",
      "\n",
      "\n",
      "invited_by_user          0     1\n",
      "creation__ORG_INVITE            \n",
      "0                     5583  2163\n",
      "1                        0  4254\n",
      "\n",
      "\n",
      "invited_by_user            0     1\n",
      "creation__GUEST_INVITE            \n",
      "0                       5583  4254\n",
      "1                          0  2163\n",
      "\n",
      "\n",
      "opted_in_to_mailing_list       0     1\n",
      "enabled_for_marketing_drip            \n",
      "0                           8556  1652\n",
      "1                            450  1342\n",
      "\n",
      "\n"
     ]
    }
   ],
   "source": [
    "for pairing in cross_tab_features:\n",
    "    print(pd.crosstab(users_df_dummies[pairing[0]],\n",
    "                           users_df_dummies[pairing[1]],\n",
    "                           rownames = [pairing[0]]))\n",
    "    print(\"\\n\")"
   ]
  },
  {
   "cell_type": "code",
   "execution_count": 68,
   "metadata": {},
   "outputs": [],
   "source": [
    "users_df_dummies = users_df_dummies.drop([\"creation__SIGNUP_GOOGLE_AUTH\", \n",
    "                                \"creation__ORG_INVITE\", \n",
    "                                \"creation__GUEST_INVITE\"], axis=1)"
   ]
  },
  {
   "cell_type": "code",
   "execution_count": 69,
   "metadata": {},
   "outputs": [
    {
     "data": {
      "text/html": [
       "<div>\n",
       "<style scoped>\n",
       "    .dataframe tbody tr th:only-of-type {\n",
       "        vertical-align: middle;\n",
       "    }\n",
       "\n",
       "    .dataframe tbody tr th {\n",
       "        vertical-align: top;\n",
       "    }\n",
       "\n",
       "    .dataframe thead th {\n",
       "        text-align: right;\n",
       "    }\n",
       "</style>\n",
       "<table border=\"1\" class=\"dataframe\">\n",
       "  <thead>\n",
       "    <tr style=\"text-align: right;\">\n",
       "      <th></th>\n",
       "      <th>opted_in_to_mailing_list</th>\n",
       "      <th>enabled_for_marketing_drip</th>\n",
       "      <th>adopted</th>\n",
       "      <th>org_num_members</th>\n",
       "      <th>day_of_week</th>\n",
       "      <th>invited_by_user</th>\n",
       "      <th>creation__PERSONAL_PROJECTS</th>\n",
       "      <th>creation__SIGNUP</th>\n",
       "      <th>email__cuvox.de</th>\n",
       "      <th>email__gmail.com</th>\n",
       "      <th>email__gustr.com</th>\n",
       "      <th>email__hotmail.com</th>\n",
       "      <th>email__jourrapide.com</th>\n",
       "      <th>email__other</th>\n",
       "      <th>email__yahoo.com</th>\n",
       "    </tr>\n",
       "  </thead>\n",
       "  <tbody>\n",
       "    <tr>\n",
       "      <th>0</th>\n",
       "      <td>1</td>\n",
       "      <td>0</td>\n",
       "      <td>0</td>\n",
       "      <td>75</td>\n",
       "      <td>1</td>\n",
       "      <td>1</td>\n",
       "      <td>0</td>\n",
       "      <td>0</td>\n",
       "      <td>0</td>\n",
       "      <td>0</td>\n",
       "      <td>0</td>\n",
       "      <td>0</td>\n",
       "      <td>0</td>\n",
       "      <td>0</td>\n",
       "      <td>1</td>\n",
       "    </tr>\n",
       "    <tr>\n",
       "      <th>1</th>\n",
       "      <td>0</td>\n",
       "      <td>0</td>\n",
       "      <td>1</td>\n",
       "      <td>233</td>\n",
       "      <td>0</td>\n",
       "      <td>1</td>\n",
       "      <td>0</td>\n",
       "      <td>0</td>\n",
       "      <td>0</td>\n",
       "      <td>0</td>\n",
       "      <td>1</td>\n",
       "      <td>0</td>\n",
       "      <td>0</td>\n",
       "      <td>0</td>\n",
       "      <td>0</td>\n",
       "    </tr>\n",
       "    <tr>\n",
       "      <th>2</th>\n",
       "      <td>0</td>\n",
       "      <td>0</td>\n",
       "      <td>0</td>\n",
       "      <td>32</td>\n",
       "      <td>1</td>\n",
       "      <td>1</td>\n",
       "      <td>0</td>\n",
       "      <td>0</td>\n",
       "      <td>0</td>\n",
       "      <td>0</td>\n",
       "      <td>1</td>\n",
       "      <td>0</td>\n",
       "      <td>0</td>\n",
       "      <td>0</td>\n",
       "      <td>0</td>\n",
       "    </tr>\n",
       "    <tr>\n",
       "      <th>3</th>\n",
       "      <td>0</td>\n",
       "      <td>0</td>\n",
       "      <td>0</td>\n",
       "      <td>233</td>\n",
       "      <td>1</td>\n",
       "      <td>1</td>\n",
       "      <td>0</td>\n",
       "      <td>0</td>\n",
       "      <td>0</td>\n",
       "      <td>0</td>\n",
       "      <td>0</td>\n",
       "      <td>0</td>\n",
       "      <td>0</td>\n",
       "      <td>0</td>\n",
       "      <td>1</td>\n",
       "    </tr>\n",
       "    <tr>\n",
       "      <th>4</th>\n",
       "      <td>0</td>\n",
       "      <td>0</td>\n",
       "      <td>0</td>\n",
       "      <td>16</td>\n",
       "      <td>1</td>\n",
       "      <td>1</td>\n",
       "      <td>0</td>\n",
       "      <td>0</td>\n",
       "      <td>0</td>\n",
       "      <td>0</td>\n",
       "      <td>0</td>\n",
       "      <td>0</td>\n",
       "      <td>0</td>\n",
       "      <td>0</td>\n",
       "      <td>1</td>\n",
       "    </tr>\n",
       "  </tbody>\n",
       "</table>\n",
       "</div>"
      ],
      "text/plain": [
       "   opted_in_to_mailing_list  enabled_for_marketing_drip  adopted  \\\n",
       "0                         1                           0        0   \n",
       "1                         0                           0        1   \n",
       "2                         0                           0        0   \n",
       "3                         0                           0        0   \n",
       "4                         0                           0        0   \n",
       "\n",
       "   org_num_members  day_of_week  invited_by_user  creation__PERSONAL_PROJECTS  \\\n",
       "0               75            1                1                            0   \n",
       "1              233            0                1                            0   \n",
       "2               32            1                1                            0   \n",
       "3              233            1                1                            0   \n",
       "4               16            1                1                            0   \n",
       "\n",
       "   creation__SIGNUP  email__cuvox.de  email__gmail.com  email__gustr.com  \\\n",
       "0                 0                0                 0                 0   \n",
       "1                 0                0                 0                 1   \n",
       "2                 0                0                 0                 1   \n",
       "3                 0                0                 0                 0   \n",
       "4                 0                0                 0                 0   \n",
       "\n",
       "   email__hotmail.com  email__jourrapide.com  email__other  email__yahoo.com  \n",
       "0                   0                      0             0                 1  \n",
       "1                   0                      0             0                 0  \n",
       "2                   0                      0             0                 0  \n",
       "3                   0                      0             0                 1  \n",
       "4                   0                      0             0                 1  "
      ]
     },
     "execution_count": 69,
     "metadata": {},
     "output_type": "execute_result"
    }
   ],
   "source": [
    "users_df_dummies.head(5)"
   ]
  },
  {
   "cell_type": "code",
   "execution_count": 70,
   "metadata": {},
   "outputs": [],
   "source": [
    "# dropping reference category dummy variables\n",
    "users_df_dummies = users_df_dummies.drop([\"creation__PERSONAL_PROJECTS\", \n",
    "                                \"email__cuvox.de\"], axis=1)"
   ]
  },
  {
   "cell_type": "code",
   "execution_count": 71,
   "metadata": {},
   "outputs": [
    {
     "data": {
      "text/html": [
       "<div>\n",
       "<style scoped>\n",
       "    .dataframe tbody tr th:only-of-type {\n",
       "        vertical-align: middle;\n",
       "    }\n",
       "\n",
       "    .dataframe tbody tr th {\n",
       "        vertical-align: top;\n",
       "    }\n",
       "\n",
       "    .dataframe thead th {\n",
       "        text-align: right;\n",
       "    }\n",
       "</style>\n",
       "<table border=\"1\" class=\"dataframe\">\n",
       "  <thead>\n",
       "    <tr style=\"text-align: right;\">\n",
       "      <th></th>\n",
       "      <th>opted_in_to_mailing_list</th>\n",
       "      <th>enabled_for_marketing_drip</th>\n",
       "      <th>adopted</th>\n",
       "      <th>org_num_members</th>\n",
       "      <th>day_of_week</th>\n",
       "      <th>invited_by_user</th>\n",
       "      <th>creation__SIGNUP</th>\n",
       "      <th>email__gmail.com</th>\n",
       "      <th>email__gustr.com</th>\n",
       "      <th>email__hotmail.com</th>\n",
       "      <th>email__jourrapide.com</th>\n",
       "      <th>email__other</th>\n",
       "      <th>email__yahoo.com</th>\n",
       "    </tr>\n",
       "  </thead>\n",
       "  <tbody>\n",
       "    <tr>\n",
       "      <th>0</th>\n",
       "      <td>1</td>\n",
       "      <td>0</td>\n",
       "      <td>0</td>\n",
       "      <td>75</td>\n",
       "      <td>1</td>\n",
       "      <td>1</td>\n",
       "      <td>0</td>\n",
       "      <td>0</td>\n",
       "      <td>0</td>\n",
       "      <td>0</td>\n",
       "      <td>0</td>\n",
       "      <td>0</td>\n",
       "      <td>1</td>\n",
       "    </tr>\n",
       "    <tr>\n",
       "      <th>1</th>\n",
       "      <td>0</td>\n",
       "      <td>0</td>\n",
       "      <td>1</td>\n",
       "      <td>233</td>\n",
       "      <td>0</td>\n",
       "      <td>1</td>\n",
       "      <td>0</td>\n",
       "      <td>0</td>\n",
       "      <td>1</td>\n",
       "      <td>0</td>\n",
       "      <td>0</td>\n",
       "      <td>0</td>\n",
       "      <td>0</td>\n",
       "    </tr>\n",
       "    <tr>\n",
       "      <th>2</th>\n",
       "      <td>0</td>\n",
       "      <td>0</td>\n",
       "      <td>0</td>\n",
       "      <td>32</td>\n",
       "      <td>1</td>\n",
       "      <td>1</td>\n",
       "      <td>0</td>\n",
       "      <td>0</td>\n",
       "      <td>1</td>\n",
       "      <td>0</td>\n",
       "      <td>0</td>\n",
       "      <td>0</td>\n",
       "      <td>0</td>\n",
       "    </tr>\n",
       "    <tr>\n",
       "      <th>3</th>\n",
       "      <td>0</td>\n",
       "      <td>0</td>\n",
       "      <td>0</td>\n",
       "      <td>233</td>\n",
       "      <td>1</td>\n",
       "      <td>1</td>\n",
       "      <td>0</td>\n",
       "      <td>0</td>\n",
       "      <td>0</td>\n",
       "      <td>0</td>\n",
       "      <td>0</td>\n",
       "      <td>0</td>\n",
       "      <td>1</td>\n",
       "    </tr>\n",
       "    <tr>\n",
       "      <th>4</th>\n",
       "      <td>0</td>\n",
       "      <td>0</td>\n",
       "      <td>0</td>\n",
       "      <td>16</td>\n",
       "      <td>1</td>\n",
       "      <td>1</td>\n",
       "      <td>0</td>\n",
       "      <td>0</td>\n",
       "      <td>0</td>\n",
       "      <td>0</td>\n",
       "      <td>0</td>\n",
       "      <td>0</td>\n",
       "      <td>1</td>\n",
       "    </tr>\n",
       "  </tbody>\n",
       "</table>\n",
       "</div>"
      ],
      "text/plain": [
       "   opted_in_to_mailing_list  enabled_for_marketing_drip  adopted  \\\n",
       "0                         1                           0        0   \n",
       "1                         0                           0        1   \n",
       "2                         0                           0        0   \n",
       "3                         0                           0        0   \n",
       "4                         0                           0        0   \n",
       "\n",
       "   org_num_members  day_of_week  invited_by_user  creation__SIGNUP  \\\n",
       "0               75            1                1                 0   \n",
       "1              233            0                1                 0   \n",
       "2               32            1                1                 0   \n",
       "3              233            1                1                 0   \n",
       "4               16            1                1                 0   \n",
       "\n",
       "   email__gmail.com  email__gustr.com  email__hotmail.com  \\\n",
       "0                 0                 0                   0   \n",
       "1                 0                 1                   0   \n",
       "2                 0                 1                   0   \n",
       "3                 0                 0                   0   \n",
       "4                 0                 0                   0   \n",
       "\n",
       "   email__jourrapide.com  email__other  email__yahoo.com  \n",
       "0                      0             0                 1  \n",
       "1                      0             0                 0  \n",
       "2                      0             0                 0  \n",
       "3                      0             0                 1  \n",
       "4                      0             0                 1  "
      ]
     },
     "execution_count": 71,
     "metadata": {},
     "output_type": "execute_result"
    }
   ],
   "source": [
    "users_df_dummies.head(5)"
   ]
  },
  {
   "cell_type": "markdown",
   "metadata": {},
   "source": [
    "## J. Data Imbalance <a name=\"Imbalance\"></a>"
   ]
  },
  {
   "cell_type": "markdown",
   "metadata": {},
   "source": [
    "> Data is highly skewed, around 87% are non-adopted users.\n",
    "\n",
    "> Using undersampling of majority non-adopted to create more balanced dataset."
   ]
  },
  {
   "cell_type": "code",
   "execution_count": 72,
   "metadata": {},
   "outputs": [
    {
     "data": {
      "text/plain": [
       "0    10480\n",
       "1     1520\n",
       "Name: adopted, dtype: int64"
      ]
     },
     "execution_count": 72,
     "metadata": {},
     "output_type": "execute_result"
    }
   ],
   "source": [
    "users_df_dummies['adopted'].value_counts()"
   ]
  },
  {
   "cell_type": "code",
   "execution_count": 73,
   "metadata": {},
   "outputs": [
    {
     "name": "stdout",
     "output_type": "stream",
     "text": [
      "1    1520\n",
      "0    1520\n",
      "Name: adopted, dtype: int64\n"
     ]
    }
   ],
   "source": [
    "# source: https://www.kaggle.com/rafjaa/resampling-strategies-for-imbalanced-datasets\n",
    "count_class_0, count_class_1 = users_df_dummies.adopted.value_counts()\n",
    "\n",
    "df_class_0 = users_df_dummies[users_df_dummies['adopted'] == 0]\n",
    "df_class_1 = users_df_dummies[users_df_dummies['adopted'] == 1]\n",
    "\n",
    "df_class_0_under = df_class_0.sample(count_class_1)\n",
    "users_df_balanced = pd.concat([df_class_0_under, df_class_1], axis=0)\n",
    "\n",
    "print(users_df_balanced.adopted.value_counts())"
   ]
  },
  {
   "cell_type": "code",
   "execution_count": 74,
   "metadata": {},
   "outputs": [
    {
     "data": {
      "text/plain": [
       "<matplotlib.axes._subplots.AxesSubplot at 0x1c1dde7908>"
      ]
     },
     "execution_count": 74,
     "metadata": {},
     "output_type": "execute_result"
    },
    {
     "data": {
      "image/png": "[encoded data removed]",
      "text/plain": [
       "<Figure size 432x288 with 1 Axes>"
      ]
     },
     "metadata": {
      "needs_background": "light"
     },
     "output_type": "display_data"
    }
   ],
   "source": [
    "users_df_balanced.adopted.value_counts().plot(kind='bar', title='Count (adopted)')"
   ]
  },
  {
   "cell_type": "code",
   "execution_count": 75,
   "metadata": {},
   "outputs": [
    {
     "data": {
      "text/html": [
       "<div>\n",
       "<style scoped>\n",
       "    .dataframe tbody tr th:only-of-type {\n",
       "        vertical-align: middle;\n",
       "    }\n",
       "\n",
       "    .dataframe tbody tr th {\n",
       "        vertical-align: top;\n",
       "    }\n",
       "\n",
       "    .dataframe thead th {\n",
       "        text-align: right;\n",
       "    }\n",
       "</style>\n",
       "<table border=\"1\" class=\"dataframe\">\n",
       "  <thead>\n",
       "    <tr style=\"text-align: right;\">\n",
       "      <th></th>\n",
       "      <th>opted_in_to_mailing_list</th>\n",
       "      <th>enabled_for_marketing_drip</th>\n",
       "      <th>adopted</th>\n",
       "      <th>org_num_members</th>\n",
       "      <th>day_of_week</th>\n",
       "      <th>invited_by_user</th>\n",
       "      <th>creation__SIGNUP</th>\n",
       "      <th>email__gmail.com</th>\n",
       "      <th>email__gustr.com</th>\n",
       "      <th>email__hotmail.com</th>\n",
       "      <th>email__jourrapide.com</th>\n",
       "      <th>email__other</th>\n",
       "      <th>email__yahoo.com</th>\n",
       "    </tr>\n",
       "  </thead>\n",
       "  <tbody>\n",
       "    <tr>\n",
       "      <th>3656</th>\n",
       "      <td>0</td>\n",
       "      <td>0</td>\n",
       "      <td>0</td>\n",
       "      <td>33</td>\n",
       "      <td>1</td>\n",
       "      <td>1</td>\n",
       "      <td>0</td>\n",
       "      <td>1</td>\n",
       "      <td>0</td>\n",
       "      <td>0</td>\n",
       "      <td>0</td>\n",
       "      <td>0</td>\n",
       "      <td>0</td>\n",
       "    </tr>\n",
       "    <tr>\n",
       "      <th>3304</th>\n",
       "      <td>0</td>\n",
       "      <td>0</td>\n",
       "      <td>0</td>\n",
       "      <td>18</td>\n",
       "      <td>0</td>\n",
       "      <td>1</td>\n",
       "      <td>0</td>\n",
       "      <td>1</td>\n",
       "      <td>0</td>\n",
       "      <td>0</td>\n",
       "      <td>0</td>\n",
       "      <td>0</td>\n",
       "      <td>0</td>\n",
       "    </tr>\n",
       "    <tr>\n",
       "      <th>7723</th>\n",
       "      <td>1</td>\n",
       "      <td>0</td>\n",
       "      <td>0</td>\n",
       "      <td>19</td>\n",
       "      <td>1</td>\n",
       "      <td>1</td>\n",
       "      <td>0</td>\n",
       "      <td>0</td>\n",
       "      <td>0</td>\n",
       "      <td>0</td>\n",
       "      <td>1</td>\n",
       "      <td>0</td>\n",
       "      <td>0</td>\n",
       "    </tr>\n",
       "    <tr>\n",
       "      <th>10575</th>\n",
       "      <td>0</td>\n",
       "      <td>0</td>\n",
       "      <td>0</td>\n",
       "      <td>168</td>\n",
       "      <td>0</td>\n",
       "      <td>1</td>\n",
       "      <td>0</td>\n",
       "      <td>0</td>\n",
       "      <td>0</td>\n",
       "      <td>0</td>\n",
       "      <td>0</td>\n",
       "      <td>1</td>\n",
       "      <td>0</td>\n",
       "    </tr>\n",
       "    <tr>\n",
       "      <th>8816</th>\n",
       "      <td>1</td>\n",
       "      <td>1</td>\n",
       "      <td>0</td>\n",
       "      <td>25</td>\n",
       "      <td>0</td>\n",
       "      <td>0</td>\n",
       "      <td>0</td>\n",
       "      <td>0</td>\n",
       "      <td>0</td>\n",
       "      <td>0</td>\n",
       "      <td>1</td>\n",
       "      <td>0</td>\n",
       "      <td>0</td>\n",
       "    </tr>\n",
       "  </tbody>\n",
       "</table>\n",
       "</div>"
      ],
      "text/plain": [
       "       opted_in_to_mailing_list  enabled_for_marketing_drip  adopted  \\\n",
       "3656                          0                           0        0   \n",
       "3304                          0                           0        0   \n",
       "7723                          1                           0        0   \n",
       "10575                         0                           0        0   \n",
       "8816                          1                           1        0   \n",
       "\n",
       "       org_num_members  day_of_week  invited_by_user  creation__SIGNUP  \\\n",
       "3656                33            1                1                 0   \n",
       "3304                18            0                1                 0   \n",
       "7723                19            1                1                 0   \n",
       "10575              168            0                1                 0   \n",
       "8816                25            0                0                 0   \n",
       "\n",
       "       email__gmail.com  email__gustr.com  email__hotmail.com  \\\n",
       "3656                  1                 0                   0   \n",
       "3304                  1                 0                   0   \n",
       "7723                  0                 0                   0   \n",
       "10575                 0                 0                   0   \n",
       "8816                  0                 0                   0   \n",
       "\n",
       "       email__jourrapide.com  email__other  email__yahoo.com  \n",
       "3656                       0             0                 0  \n",
       "3304                       0             0                 0  \n",
       "7723                       1             0                 0  \n",
       "10575                      0             1                 0  \n",
       "8816                       1             0                 0  "
      ]
     },
     "execution_count": 75,
     "metadata": {},
     "output_type": "execute_result"
    }
   ],
   "source": [
    "users_df_balanced.head(5)"
   ]
  },
  {
   "cell_type": "markdown",
   "metadata": {},
   "source": [
    "# V. Modeling <a name=\"Modeling\"></a>"
   ]
  },
  {
   "cell_type": "markdown",
   "metadata": {},
   "source": [
    "## A. Logistic Regression on Undersampled Data <a name=\"Logistic\"></a>"
   ]
  },
  {
   "cell_type": "code",
   "execution_count": 76,
   "metadata": {},
   "outputs": [
    {
     "data": {
      "text/plain": [
       "['opted_in_to_mailing_list',\n",
       " 'enabled_for_marketing_drip',\n",
       " 'adopted',\n",
       " 'org_num_members',\n",
       " 'day_of_week',\n",
       " 'invited_by_user',\n",
       " 'creation__SIGNUP',\n",
       " 'email__gmail.com',\n",
       " 'email__gustr.com',\n",
       " 'email__hotmail.com',\n",
       " 'email__jourrapide.com',\n",
       " 'email__other',\n",
       " 'email__yahoo.com']"
      ]
     },
     "execution_count": 76,
     "metadata": {},
     "output_type": "execute_result"
    }
   ],
   "source": [
    "all_features = list(users_df_balanced)\n",
    "all_features"
   ]
  },
  {
   "cell_type": "code",
   "execution_count": 77,
   "metadata": {},
   "outputs": [],
   "source": [
    "selected_features = [x for x in all_features if x != \"adopted\"]"
   ]
  },
  {
   "cell_type": "code",
   "execution_count": 78,
   "metadata": {},
   "outputs": [],
   "source": [
    "X = users_df_balanced[selected_features]\n",
    "y = users_df_balanced['adopted']"
   ]
  },
  {
   "cell_type": "code",
   "execution_count": 79,
   "metadata": {},
   "outputs": [
    {
     "data": {
      "text/html": [
       "<div>\n",
       "<style scoped>\n",
       "    .dataframe tbody tr th:only-of-type {\n",
       "        vertical-align: middle;\n",
       "    }\n",
       "\n",
       "    .dataframe tbody tr th {\n",
       "        vertical-align: top;\n",
       "    }\n",
       "\n",
       "    .dataframe thead th {\n",
       "        text-align: right;\n",
       "    }\n",
       "</style>\n",
       "<table border=\"1\" class=\"dataframe\">\n",
       "  <thead>\n",
       "    <tr style=\"text-align: right;\">\n",
       "      <th></th>\n",
       "      <th>const</th>\n",
       "      <th>opted_in_to_mailing_list</th>\n",
       "      <th>enabled_for_marketing_drip</th>\n",
       "      <th>org_num_members</th>\n",
       "      <th>day_of_week</th>\n",
       "      <th>invited_by_user</th>\n",
       "      <th>creation__SIGNUP</th>\n",
       "      <th>email__gmail.com</th>\n",
       "      <th>email__gustr.com</th>\n",
       "      <th>email__hotmail.com</th>\n",
       "      <th>email__jourrapide.com</th>\n",
       "      <th>email__other</th>\n",
       "      <th>email__yahoo.com</th>\n",
       "    </tr>\n",
       "  </thead>\n",
       "  <tbody>\n",
       "    <tr>\n",
       "      <th>3656</th>\n",
       "      <td>1.0</td>\n",
       "      <td>0</td>\n",
       "      <td>0</td>\n",
       "      <td>33</td>\n",
       "      <td>1</td>\n",
       "      <td>1</td>\n",
       "      <td>0</td>\n",
       "      <td>1</td>\n",
       "      <td>0</td>\n",
       "      <td>0</td>\n",
       "      <td>0</td>\n",
       "      <td>0</td>\n",
       "      <td>0</td>\n",
       "    </tr>\n",
       "    <tr>\n",
       "      <th>3304</th>\n",
       "      <td>1.0</td>\n",
       "      <td>0</td>\n",
       "      <td>0</td>\n",
       "      <td>18</td>\n",
       "      <td>0</td>\n",
       "      <td>1</td>\n",
       "      <td>0</td>\n",
       "      <td>1</td>\n",
       "      <td>0</td>\n",
       "      <td>0</td>\n",
       "      <td>0</td>\n",
       "      <td>0</td>\n",
       "      <td>0</td>\n",
       "    </tr>\n",
       "  </tbody>\n",
       "</table>\n",
       "</div>"
      ],
      "text/plain": [
       "      const  opted_in_to_mailing_list  enabled_for_marketing_drip  \\\n",
       "3656    1.0                         0                           0   \n",
       "3304    1.0                         0                           0   \n",
       "\n",
       "      org_num_members  day_of_week  invited_by_user  creation__SIGNUP  \\\n",
       "3656               33            1                1                 0   \n",
       "3304               18            0                1                 0   \n",
       "\n",
       "      email__gmail.com  email__gustr.com  email__hotmail.com  \\\n",
       "3656                 1                 0                   0   \n",
       "3304                 1                 0                   0   \n",
       "\n",
       "      email__jourrapide.com  email__other  email__yahoo.com  \n",
       "3656                      0             0                 0  \n",
       "3304                      0             0                 0  "
      ]
     },
     "execution_count": 79,
     "metadata": {},
     "output_type": "execute_result"
    }
   ],
   "source": [
    "# adding intercept for statsmodels.api\n",
    "X = sm.add_constant(X)\n",
    "X.head(2)"
   ]
  },
  {
   "cell_type": "code",
   "execution_count": 80,
   "metadata": {},
   "outputs": [
    {
     "name": "stdout",
     "output_type": "stream",
     "text": [
      "Optimization terminated successfully.\n",
      "         Current function value: 0.675635\n",
      "         Iterations 5\n",
      "                              Results: Logit\n",
      "==========================================================================\n",
      "Model:                 Logit               Pseudo R-squared:    0.025     \n",
      "Dependent Variable:    adopted             AIC:                 4133.8621 \n",
      "Date:                  2019-01-29 09:18    BIC:                 4212.1171 \n",
      "No. Observations:      3040                Log-Likelihood:      -2053.9   \n",
      "Df Model:              12                  LL-Null:             -2107.2   \n",
      "Df Residuals:          3027                LLR p-value:         2.9754e-17\n",
      "Converged:             1.0000              Scale:               1.0000    \n",
      "No. Iterations:        5.0000                                             \n",
      "--------------------------------------------------------------------------\n",
      "                            Coef.  Std.Err.    z    P>|z|   [0.025  0.975]\n",
      "--------------------------------------------------------------------------\n",
      "const                      -0.3426   0.1509 -2.2695 0.0232 -0.6384 -0.0467\n",
      "opted_in_to_mailing_list   -0.0515   0.0969 -0.5317 0.5949 -0.2415  0.1384\n",
      "enabled_for_marketing_drip  0.0035   0.1168  0.0304 0.9758 -0.2254  0.2325\n",
      "org_num_members            -0.0053   0.0007 -7.2896 0.0000 -0.0067 -0.0039\n",
      "day_of_week                 0.0137   0.0748  0.1828 0.8550 -0.1329  0.1602\n",
      "invited_by_user             0.3851   0.0921  4.1819 0.0000  0.2046  0.5656\n",
      "creation__SIGNUP            0.4032   0.1160  3.4768 0.0005  0.1759  0.6306\n",
      "email__gmail.com            0.5677   0.1387  4.0934 0.0000  0.2959  0.8394\n",
      "email__gustr.com            0.2070   0.1687  1.2269 0.2199 -0.1237  0.5377\n",
      "email__hotmail.com          0.5503   0.1630  3.3772 0.0007  0.2309  0.8697\n",
      "email__jourrapide.com       0.2532   0.1640  1.5445 0.1225 -0.0681  0.5746\n",
      "email__other                0.2821   0.1661  1.6978 0.0896 -0.0436  0.6077\n",
      "email__yahoo.com            0.0497   0.1462  0.3399 0.7339 -0.2369  0.3363\n",
      "==========================================================================\n",
      "\n"
     ]
    }
   ],
   "source": [
    "logit_model = sm.Logit(y,X)\n",
    "result = logit_model.fit()\n",
    "print(result.summary2())"
   ]
  },
  {
   "cell_type": "code",
   "execution_count": 81,
   "metadata": {},
   "outputs": [],
   "source": [
    "# retaining features with low p-values, <0.05\n",
    "significant_features = [\"org_num_members\",\n",
    "                        \"invited_by_user\",\n",
    "                        \"creation__SIGNUP\",\n",
    "                        \"email__gmail.com\",\n",
    "                        \"email__hotmail.com\"]"
   ]
  },
  {
   "cell_type": "code",
   "execution_count": 82,
   "metadata": {},
   "outputs": [],
   "source": [
    "X = users_df_balanced[significant_features]\n",
    "y = users_df_balanced['adopted']"
   ]
  },
  {
   "cell_type": "code",
   "execution_count": 83,
   "metadata": {},
   "outputs": [
    {
     "data": {
      "text/html": [
       "<div>\n",
       "<style scoped>\n",
       "    .dataframe tbody tr th:only-of-type {\n",
       "        vertical-align: middle;\n",
       "    }\n",
       "\n",
       "    .dataframe tbody tr th {\n",
       "        vertical-align: top;\n",
       "    }\n",
       "\n",
       "    .dataframe thead th {\n",
       "        text-align: right;\n",
       "    }\n",
       "</style>\n",
       "<table border=\"1\" class=\"dataframe\">\n",
       "  <thead>\n",
       "    <tr style=\"text-align: right;\">\n",
       "      <th></th>\n",
       "      <th>const</th>\n",
       "      <th>org_num_members</th>\n",
       "      <th>invited_by_user</th>\n",
       "      <th>creation__SIGNUP</th>\n",
       "      <th>email__gmail.com</th>\n",
       "      <th>email__hotmail.com</th>\n",
       "    </tr>\n",
       "  </thead>\n",
       "  <tbody>\n",
       "    <tr>\n",
       "      <th>3656</th>\n",
       "      <td>1.0</td>\n",
       "      <td>33</td>\n",
       "      <td>1</td>\n",
       "      <td>0</td>\n",
       "      <td>1</td>\n",
       "      <td>0</td>\n",
       "    </tr>\n",
       "    <tr>\n",
       "      <th>3304</th>\n",
       "      <td>1.0</td>\n",
       "      <td>18</td>\n",
       "      <td>1</td>\n",
       "      <td>0</td>\n",
       "      <td>1</td>\n",
       "      <td>0</td>\n",
       "    </tr>\n",
       "  </tbody>\n",
       "</table>\n",
       "</div>"
      ],
      "text/plain": [
       "      const  org_num_members  invited_by_user  creation__SIGNUP  \\\n",
       "3656    1.0               33                1                 0   \n",
       "3304    1.0               18                1                 0   \n",
       "\n",
       "      email__gmail.com  email__hotmail.com  \n",
       "3656                 1                   0  \n",
       "3304                 1                   0  "
      ]
     },
     "execution_count": 83,
     "metadata": {},
     "output_type": "execute_result"
    }
   ],
   "source": [
    "X = sm.add_constant(X)\n",
    "X.head(2)"
   ]
  },
  {
   "cell_type": "code",
   "execution_count": 84,
   "metadata": {},
   "outputs": [
    {
     "name": "stdout",
     "output_type": "stream",
     "text": [
      "Optimization terminated successfully.\n",
      "         Current function value: 0.676559\n",
      "         Iterations 5\n",
      "                          Results: Logit\n",
      "==================================================================\n",
      "Model:               Logit            Pseudo R-squared: 0.024     \n",
      "Dependent Variable:  adopted          AIC:              4125.4810 \n",
      "Date:                2019-01-29 09:18 BIC:              4161.5987 \n",
      "No. Observations:    3040             Log-Likelihood:   -2056.7   \n",
      "Df Model:            5                LL-Null:          -2107.2   \n",
      "Df Residuals:        3034             LLR p-value:      3.4921e-20\n",
      "Converged:           1.0000           Scale:            1.0000    \n",
      "No. Iterations:      5.0000                                       \n",
      "------------------------------------------------------------------\n",
      "                    Coef.  Std.Err.    z    P>|z|   [0.025  0.975]\n",
      "------------------------------------------------------------------\n",
      "const              -0.2028   0.0938 -2.1625 0.0306 -0.3867 -0.0190\n",
      "org_num_members    -0.0053   0.0007 -7.3250 0.0000 -0.0067 -0.0039\n",
      "invited_by_user     0.3852   0.0920  4.1880 0.0000  0.2049  0.5655\n",
      "creation__SIGNUP    0.3995   0.1158  3.4490 0.0006  0.1725  0.6266\n",
      "email__gmail.com    0.4249   0.0872  4.8713 0.0000  0.2539  0.5958\n",
      "email__hotmail.com  0.4041   0.1217  3.3201 0.0009  0.1656  0.6427\n",
      "==================================================================\n",
      "\n"
     ]
    }
   ],
   "source": [
    "logit_model = sm.Logit(y,X)\n",
    "result = logit_model.fit()\n",
    "print(result.summary2())"
   ]
  },
  {
   "cell_type": "code",
   "execution_count": 85,
   "metadata": {},
   "outputs": [
    {
     "name": "stdout",
     "output_type": "stream",
     "text": [
      "const                 0.816410\n",
      "org_num_members       0.994700\n",
      "invited_by_user       1.469937\n",
      "creation__SIGNUP      1.491105\n",
      "email__gmail.com      1.529376\n",
      "email__hotmail.com    1.497979\n",
      "dtype: float64\n"
     ]
    }
   ],
   "source": [
    "# odds ratios with respect to cuvox.de reference category and personal_projects_signup\n",
    "print(np.exp(result.params))"
   ]
  },
  {
   "cell_type": "markdown",
   "metadata": {},
   "source": [
    "## B. Logistic Regression on Full Dataset (for comparison) <a name=\"Full\"></a>"
   ]
  },
  {
   "cell_type": "code",
   "execution_count": 86,
   "metadata": {},
   "outputs": [],
   "source": [
    "# not much difference between them"
   ]
  },
  {
   "cell_type": "code",
   "execution_count": 87,
   "metadata": {},
   "outputs": [],
   "source": [
    "X = users_df_dummies[selected_features]\n",
    "y = users_df_dummies['adopted']"
   ]
  },
  {
   "cell_type": "code",
   "execution_count": 88,
   "metadata": {},
   "outputs": [
    {
     "data": {
      "text/html": [
       "<div>\n",
       "<style scoped>\n",
       "    .dataframe tbody tr th:only-of-type {\n",
       "        vertical-align: middle;\n",
       "    }\n",
       "\n",
       "    .dataframe tbody tr th {\n",
       "        vertical-align: top;\n",
       "    }\n",
       "\n",
       "    .dataframe thead th {\n",
       "        text-align: right;\n",
       "    }\n",
       "</style>\n",
       "<table border=\"1\" class=\"dataframe\">\n",
       "  <thead>\n",
       "    <tr style=\"text-align: right;\">\n",
       "      <th></th>\n",
       "      <th>const</th>\n",
       "      <th>opted_in_to_mailing_list</th>\n",
       "      <th>enabled_for_marketing_drip</th>\n",
       "      <th>org_num_members</th>\n",
       "      <th>day_of_week</th>\n",
       "      <th>invited_by_user</th>\n",
       "      <th>creation__SIGNUP</th>\n",
       "      <th>email__gmail.com</th>\n",
       "      <th>email__gustr.com</th>\n",
       "      <th>email__hotmail.com</th>\n",
       "      <th>email__jourrapide.com</th>\n",
       "      <th>email__other</th>\n",
       "      <th>email__yahoo.com</th>\n",
       "    </tr>\n",
       "  </thead>\n",
       "  <tbody>\n",
       "    <tr>\n",
       "      <th>0</th>\n",
       "      <td>1.0</td>\n",
       "      <td>1</td>\n",
       "      <td>0</td>\n",
       "      <td>75</td>\n",
       "      <td>1</td>\n",
       "      <td>1</td>\n",
       "      <td>0</td>\n",
       "      <td>0</td>\n",
       "      <td>0</td>\n",
       "      <td>0</td>\n",
       "      <td>0</td>\n",
       "      <td>0</td>\n",
       "      <td>1</td>\n",
       "    </tr>\n",
       "    <tr>\n",
       "      <th>1</th>\n",
       "      <td>1.0</td>\n",
       "      <td>0</td>\n",
       "      <td>0</td>\n",
       "      <td>233</td>\n",
       "      <td>0</td>\n",
       "      <td>1</td>\n",
       "      <td>0</td>\n",
       "      <td>0</td>\n",
       "      <td>1</td>\n",
       "      <td>0</td>\n",
       "      <td>0</td>\n",
       "      <td>0</td>\n",
       "      <td>0</td>\n",
       "    </tr>\n",
       "  </tbody>\n",
       "</table>\n",
       "</div>"
      ],
      "text/plain": [
       "   const  opted_in_to_mailing_list  enabled_for_marketing_drip  \\\n",
       "0    1.0                         1                           0   \n",
       "1    1.0                         0                           0   \n",
       "\n",
       "   org_num_members  day_of_week  invited_by_user  creation__SIGNUP  \\\n",
       "0               75            1                1                 0   \n",
       "1              233            0                1                 0   \n",
       "\n",
       "   email__gmail.com  email__gustr.com  email__hotmail.com  \\\n",
       "0                 0                 0                   0   \n",
       "1                 0                 1                   0   \n",
       "\n",
       "   email__jourrapide.com  email__other  email__yahoo.com  \n",
       "0                      0             0                 1  \n",
       "1                      0             0                 0  "
      ]
     },
     "execution_count": 88,
     "metadata": {},
     "output_type": "execute_result"
    }
   ],
   "source": [
    "# adding intercept for statsmodels.api\n",
    "X = sm.add_constant(X)\n",
    "X.head(2)"
   ]
  },
  {
   "cell_type": "code",
   "execution_count": 89,
   "metadata": {},
   "outputs": [
    {
     "name": "stdout",
     "output_type": "stream",
     "text": [
      "Optimization terminated successfully.\n",
      "         Current function value: 0.372867\n",
      "         Iterations 7\n",
      "                              Results: Logit\n",
      "===========================================================================\n",
      "Model:                  Logit               Pseudo R-squared:    0.019     \n",
      "Dependent Variable:     adopted             AIC:                 8974.8120 \n",
      "Date:                   2019-01-29 09:18    BIC:                 9070.9166 \n",
      "No. Observations:       12000               Log-Likelihood:      -4474.4   \n",
      "Df Model:               12                  LL-Null:             -4560.0   \n",
      "Df Residuals:           11987               LLR p-value:         2.7067e-30\n",
      "Converged:              1.0000              Scale:               1.0000    \n",
      "No. Iterations:         7.0000                                             \n",
      "---------------------------------------------------------------------------\n",
      "                            Coef.  Std.Err.    z     P>|z|   [0.025  0.975]\n",
      "---------------------------------------------------------------------------\n",
      "const                      -2.1738   0.1177 -18.4724 0.0000 -2.4045 -1.9432\n",
      "opted_in_to_mailing_list    0.0220   0.0727   0.3025 0.7623 -0.1206  0.1646\n",
      "enabled_for_marketing_drip  0.0279   0.0877   0.3179 0.7505 -0.1441  0.1998\n",
      "org_num_members            -0.0054   0.0006  -8.6735 0.0000 -0.0066 -0.0042\n",
      "day_of_week                -0.0028   0.0559  -0.0501 0.9601 -0.1123  0.1067\n",
      "invited_by_user             0.3645   0.0696   5.2352 0.0000  0.2280  0.5010\n",
      "creation__SIGNUP            0.3697   0.0869   4.2540 0.0000  0.1994  0.5401\n",
      "email__gmail.com            0.4430   0.1069   4.1429 0.0000  0.2334  0.6526\n",
      "email__gustr.com            0.0787   0.1307   0.6022 0.5471 -0.1775  0.3349\n",
      "email__hotmail.com          0.4840   0.1230   3.9354 0.0001  0.2429  0.7250\n",
      "email__jourrapide.com       0.1750   0.1269   1.3794 0.1678 -0.0737  0.4237\n",
      "email__other                0.2052   0.1279   1.6040 0.1087 -0.0455  0.4560\n",
      "email__yahoo.com           -0.0519   0.1151  -0.4510 0.6520 -0.2776  0.1737\n",
      "===========================================================================\n",
      "\n"
     ]
    }
   ],
   "source": [
    "logit_model = sm.Logit(y,X)\n",
    "result = logit_model.fit()\n",
    "print(result.summary2())"
   ]
  }
 ],
 "metadata": {
  "kernelspec": {
   "display_name": "Python 3",
   "language": "python",
   "name": "python3"
  },
  "language_info": {
   "codemirror_mode": {
    "name": "ipython",
    "version": 3
   },
   "file_extension": ".py",
   "mimetype": "text/x-python",
   "name": "python",
   "nbconvert_exporter": "python",
   "pygments_lexer": "ipython3",
   "version": "3.6.6"
  }
 },
 "nbformat": 4,
 "nbformat_minor": 2
}
